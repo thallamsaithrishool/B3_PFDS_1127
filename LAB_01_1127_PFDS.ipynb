{
  "nbformat": 4,
  "nbformat_minor": 0,
  "metadata": {
    "colab": {
      "provenance": [],
      "authorship_tag": "ABX9TyP4Eprz77y2Xgby5VI7dS8M",
      "include_colab_link": true
    },
    "kernelspec": {
      "name": "python3",
      "display_name": "Python 3"
    },
    "language_info": {
      "name": "python"
    }
  },
  "cells": [
    {
      "cell_type": "markdown",
      "metadata": {
        "id": "view-in-github",
        "colab_type": "text"
      },
      "source": [
        "<a href=\"https://colab.research.google.com/github/thallamsaithrishool/B3_PFDS_1127/blob/main/LAB_01_1127.ipynb\" target=\"_parent\"><img src=\"https://colab.research.google.com/assets/colab-badge.svg\" alt=\"Open In Colab\"/></a>"
      ]
    },
    {
      "cell_type": "markdown",
      "source": [
        "#1st quesions code"
      ],
      "metadata": {
        "id": "uFHAlocz1YRa"
      }
    },
    {
      "cell_type": "code",
      "source": [
        "def fact(i, d=0):\n",
        "    space = \"  \" * d\n",
        "    print(f\"{space}Calling fact({i})\")\n",
        "\n",
        "    if i == 0 or i == 1:\n",
        "        print(f\"{space}Base case: fact({i}) = 1\")\n",
        "        return 1\n",
        "    else:\n",
        "        res = i * fact(i - 1, d + 1)\n",
        "        print(f\"{space}Returning: {i} * fact({i - 1}) = {res}\")\n",
        "        return res\n"
      ],
      "metadata": {
        "id": "45JsH0S8Clgu"
      },
      "execution_count": null,
      "outputs": []
    },
    {
      "cell_type": "code",
      "source": [
        "while True:\n",
        "    try:\n",
        "        i = int(input(\"Enter a number (≤ 10): \"))\n",
        "        if 0 <= i <= 10:\n",
        "            break\n",
        "        else:\n",
        "            print(\"Please enter a number between 0 and 10.\")\n",
        "    except:\n",
        "        print(\"Invalid input. Enter a number.\")\n"
      ],
      "metadata": {
        "colab": {
          "base_uri": "https://localhost:8080/"
        },
        "id": "4EnJwYFMCmTq",
        "outputId": "22a4aac6-2e29-420f-ca01-cf9b0405d8d4"
      },
      "execution_count": null,
      "outputs": [
        {
          "name": "stdout",
          "output_type": "stream",
          "text": [
            "Enter a number (≤ 10): \n",
            "Invalid input. Enter a number.\n",
            "Enter a number (≤ 10): 5\n"
          ]
        }
      ]
    },
    {
      "cell_type": "code",
      "source": [
        "print(f\"\\nTracing fact({i}):\\n\")\n",
        "ans = fact(i)\n",
        "print(f\"\\nResult: fact({i}) = {ans}\")\n"
      ],
      "metadata": {
        "colab": {
          "base_uri": "https://localhost:8080/"
        },
        "id": "kB3jw5h1CmQQ",
        "outputId": "8b3c5890-6d78-41ef-8192-d4e2062bf5b1"
      },
      "execution_count": null,
      "outputs": [
        {
          "output_type": "stream",
          "name": "stdout",
          "text": [
            "\n",
            "Tracing fact(5):\n",
            "\n",
            "Calling fact(5)\n",
            "  Calling fact(4)\n",
            "    Calling fact(3)\n",
            "      Calling fact(2)\n",
            "        Calling fact(1)\n",
            "        Base case: fact(1) = 1\n",
            "      Returning: 2 * fact(1) = 2\n",
            "    Returning: 3 * fact(2) = 6\n",
            "  Returning: 4 * fact(3) = 24\n",
            "Returning: 5 * fact(4) = 120\n",
            "\n",
            "Result: fact(5) = 120\n"
          ]
        }
      ]
    },
    {
      "cell_type": "markdown",
      "source": [
        "#2nd question code\n"
      ],
      "metadata": {
        "id": "TAaXcRzl1gIt"
      }
    },
    {
      "cell_type": "code",
      "source": [
        "import time, sys\n",
        "\n",
        "def f_rec(a):\n",
        "    if a == 0 or a == 1:\n",
        "        return 1\n",
        "    return a * f_rec(a - 1)\n",
        "\n",
        "def f_itr(a):\n",
        "    r = 1\n",
        "    for j in range(2, a + 1):\n",
        "        r *= j\n",
        "    return r\n",
        "\n",
        "while True:\n",
        "    try:\n",
        "        a = int(input(\"Enter a number (≤ 10): \"))\n",
        "        if 0 <= a <= 10:\n",
        "            break\n",
        "        else:\n",
        "            print(\"Please enter a number between 0 and 10.\")\n",
        "    except:\n",
        "        print(\"Invalid input. Enter a number.\")\n",
        "\n",
        "s = time.time()\n",
        "r1 = f_rec(a)\n",
        "e = time.time()\n",
        "t1 = e - s\n",
        "m1 = sys.getsizeof(r1)\n",
        "\n",
        "s = time.time()\n",
        "r2 = f_itr(a)\n",
        "e = time.time()\n",
        "t2 = e - s\n",
        "m2 = sys.getsizeof(r2)\n",
        "\n",
        "print(\"\\nComparison Table:\\n\")\n",
        "print(\"{:<12} {:<15} {:<15} {:<15}\".format(\"Approach\", \"Result\", \"Time (sec)\", \"Memory (bytes)\"))\n",
        "print(\"-\" * 60)\n",
        "print(\"{:<12} {:<15} {:<15.8f} {:<15}\".format(\"Recursive\", r1, t1, m1))\n",
        "print(\"{:<12} {:<15} {:<15.8f} {:<15}\".format(\"Iterative\", r2, t2, m2))\n"
      ],
      "metadata": {
        "id": "_kOCKEvs1iYi",
        "outputId": "d49f4f39-d4d1-465b-b829-9ba809dc8ffa",
        "colab": {
          "base_uri": "https://localhost:8080/"
        }
      },
      "execution_count": 1,
      "outputs": [
        {
          "output_type": "stream",
          "name": "stdout",
          "text": [
            "Enter a number (≤ 10): 5\n",
            "\n",
            "Comparison Table:\n",
            "\n",
            "Approach     Result          Time (sec)      Memory (bytes) \n",
            "------------------------------------------------------------\n",
            "Recursive    120             0.00012064      28             \n",
            "Iterative    120             0.00009871      28             \n"
          ]
        }
      ]
    }
  ]
}
