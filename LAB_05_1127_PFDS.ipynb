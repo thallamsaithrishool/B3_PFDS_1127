{
  "nbformat": 4,
  "nbformat_minor": 0,
  "metadata": {
    "colab": {
      "provenance": [],
      "authorship_tag": "ABX9TyN3ssWB88+r5+IDkut/j5qk",
      "include_colab_link": true
    },
    "kernelspec": {
      "name": "python3",
      "display_name": "Python 3"
    },
    "language_info": {
      "name": "python"
    }
  },
  "cells": [
    {
      "cell_type": "markdown",
      "metadata": {
        "id": "view-in-github",
        "colab_type": "text"
      },
      "source": [
        "<a href=\"https://colab.research.google.com/github/thallamsaithrishool/B3_PFDS_1127/blob/main/LAB_05_1127_PFDS.ipynb\" target=\"_parent\"><img src=\"https://colab.research.google.com/assets/colab-badge.svg\" alt=\"Open In Colab\"/></a>"
      ]
    },
    {
      "cell_type": "markdown",
      "source": [
        "**Detecting Missing Values**"
      ],
      "metadata": {
        "id": "UFB60NVIBniL"
      }
    },
    {
      "cell_type": "code",
      "source": [
        "import pandas as pd"
      ],
      "metadata": {
        "id": "OSK4Is19B2Zw"
      },
      "execution_count": null,
      "outputs": []
    },
    {
      "cell_type": "code",
      "source": [
        "data=pd.read_csv('/content/mental_health_dataset.csv')"
      ],
      "metadata": {
        "id": "C3KJ3lyoBfz8"
      },
      "execution_count": null,
      "outputs": []
    },
    {
      "cell_type": "code",
      "source": [
        "df=pd.DataFrame(data)"
      ],
      "metadata": {
        "id": "0BaUaP60Bfuy"
      },
      "execution_count": null,
      "outputs": []
    },
    {
      "cell_type": "code",
      "source": [
        "print(\"Original Data\")\n",
        "print(df)"
      ],
      "metadata": {
        "colab": {
          "base_uri": "https://localhost:8080/"
        },
        "id": "3kpxIgn0CAzj",
        "outputId": "a09c8b0c-0dbf-4968-d48e-3f23ba85c2c2"
      },
      "execution_count": null,
      "outputs": [
        {
          "output_type": "stream",
          "name": "stdout",
          "text": [
            "Original Data\n",
            "     User_ID  Age             Gender  Occupation    Country  \\\n",
            "0          1   36         Non-binary       Sales     Canada   \n",
            "1          2   34             Female   Education         UK   \n",
            "2          3   65         Non-binary       Sales        USA   \n",
            "3          4   34               Male       Other  Australia   \n",
            "4          5   22             Female  Healthcare     Canada   \n",
            "..       ...  ...                ...         ...        ...   \n",
            "995      996   46         Non-binary       Other    Germany   \n",
            "996      997   31               Male       Sales     Canada   \n",
            "997      998   33             Female          IT    Germany   \n",
            "998      999   42             Female     Finance  Australia   \n",
            "999     1000   43  Prefer not to say       Sales    Germany   \n",
            "\n",
            "    Mental_Health_Condition Severity Consultation_History Stress_Level  \\\n",
            "0                        No   Medium                  Yes       Medium   \n",
            "1                       Yes      NaN                   No          Low   \n",
            "2                       Yes     High                   No          Low   \n",
            "3                        No      Low                   No       Medium   \n",
            "4                       Yes      Low                   No       Medium   \n",
            "..                      ...      ...                  ...          ...   \n",
            "995                      No      NaN                  Yes          Low   \n",
            "996                      No      NaN                   No         High   \n",
            "997                      No     High                  Yes       Medium   \n",
            "998                     Yes      NaN                   No       Medium   \n",
            "999                      No      Low                  Yes          Low   \n",
            "\n",
            "     Sleep_Hours  Work_Hours  Physical_Activity_Hours  \n",
            "0            7.1          46                        5  \n",
            "1            7.5          47                        8  \n",
            "2            8.4          58                       10  \n",
            "3            9.8          30                        2  \n",
            "4            4.9          62                        5  \n",
            "..           ...         ...                      ...  \n",
            "995          9.3          50                        0  \n",
            "996          4.5          37                        6  \n",
            "997          9.7          73                       10  \n",
            "998          6.5          79                        8  \n",
            "999          6.0          61                        7  \n",
            "\n",
            "[1000 rows x 12 columns]\n"
          ]
        }
      ]
    },
    {
      "cell_type": "markdown",
      "source": [
        "**Handling Missing Values**"
      ],
      "metadata": {
        "id": "a6whG2NWHM6_"
      }
    },
    {
      "cell_type": "code",
      "source": [
        "print(\" checking Missing Values\")\n",
        "print(df.isnull())"
      ],
      "metadata": {
        "colab": {
          "base_uri": "https://localhost:8080/"
        },
        "id": "07yw-z_dCKmY",
        "outputId": "3b6b9af0-0736-40e4-d692-6edaedad42fd"
      },
      "execution_count": null,
      "outputs": [
        {
          "output_type": "stream",
          "name": "stdout",
          "text": [
            " checking Missing Values\n",
            "     User_ID    Age  Gender  Occupation  Country  Mental_Health_Condition  \\\n",
            "0      False  False   False       False    False                    False   \n",
            "1      False  False   False       False    False                    False   \n",
            "2      False  False   False       False    False                    False   \n",
            "3      False  False   False       False    False                    False   \n",
            "4      False  False   False       False    False                    False   \n",
            "..       ...    ...     ...         ...      ...                      ...   \n",
            "995    False  False   False       False    False                    False   \n",
            "996    False  False   False       False    False                    False   \n",
            "997    False  False   False       False    False                    False   \n",
            "998    False  False   False       False    False                    False   \n",
            "999    False  False   False       False    False                    False   \n",
            "\n",
            "     Severity  Consultation_History  Stress_Level  Sleep_Hours  Work_Hours  \\\n",
            "0       False                 False         False        False       False   \n",
            "1        True                 False         False        False       False   \n",
            "2       False                 False         False        False       False   \n",
            "3       False                 False         False        False       False   \n",
            "4       False                 False         False        False       False   \n",
            "..        ...                   ...           ...          ...         ...   \n",
            "995      True                 False         False        False       False   \n",
            "996      True                 False         False        False       False   \n",
            "997     False                 False         False        False       False   \n",
            "998      True                 False         False        False       False   \n",
            "999     False                 False         False        False       False   \n",
            "\n",
            "     Physical_Activity_Hours  \n",
            "0                      False  \n",
            "1                      False  \n",
            "2                      False  \n",
            "3                      False  \n",
            "4                      False  \n",
            "..                       ...  \n",
            "995                    False  \n",
            "996                    False  \n",
            "997                    False  \n",
            "998                    False  \n",
            "999                    False  \n",
            "\n",
            "[1000 rows x 12 columns]\n"
          ]
        }
      ]
    },
    {
      "cell_type": "markdown",
      "source": [
        "**Dropping Missing Values**"
      ],
      "metadata": {
        "id": "fe3vslPmCiTd"
      }
    },
    {
      "cell_type": "code",
      "source": [
        "df_drop=df.dropna()"
      ],
      "metadata": {
        "id": "-oaL-cBxCm3l"
      },
      "execution_count": null,
      "outputs": []
    },
    {
      "cell_type": "code",
      "source": [
        "print(\"Data After Dropping Missing Values\")\n",
        "print(df_drop)\n"
      ],
      "metadata": {
        "colab": {
          "base_uri": "https://localhost:8080/"
        },
        "id": "9l7KgZqbC-La",
        "outputId": "bdd43546-71c7-440f-e2c6-3512f9c3c7c1"
      },
      "execution_count": null,
      "outputs": [
        {
          "output_type": "stream",
          "name": "stdout",
          "text": [
            "Data After Dropping Missing Values\n",
            "     User_ID  Age             Gender  Occupation    Country  \\\n",
            "0          1   36         Non-binary       Sales     Canada   \n",
            "2          3   65         Non-binary       Sales        USA   \n",
            "3          4   34               Male       Other  Australia   \n",
            "4          5   22             Female  Healthcare     Canada   \n",
            "5          6   64         Non-binary          IT         UK   \n",
            "..       ...  ...                ...         ...        ...   \n",
            "991      992   40         Non-binary          IT         UK   \n",
            "992      993   52             Female   Education     Canada   \n",
            "993      994   50  Prefer not to say       Sales     Canada   \n",
            "997      998   33             Female          IT    Germany   \n",
            "999     1000   43  Prefer not to say       Sales    Germany   \n",
            "\n",
            "    Mental_Health_Condition Severity Consultation_History Stress_Level  \\\n",
            "0                        No   Medium                  Yes       Medium   \n",
            "2                       Yes     High                   No          Low   \n",
            "3                        No      Low                   No       Medium   \n",
            "4                       Yes      Low                   No       Medium   \n",
            "5                       Yes     High                   No         High   \n",
            "..                      ...      ...                  ...          ...   \n",
            "991                      No     High                  Yes          Low   \n",
            "992                     Yes     High                   No       Medium   \n",
            "993                      No   Medium                  Yes       Medium   \n",
            "997                      No     High                  Yes       Medium   \n",
            "999                      No      Low                  Yes          Low   \n",
            "\n",
            "     Sleep_Hours  Work_Hours  Physical_Activity_Hours  \n",
            "0            7.1          46                        5  \n",
            "2            8.4          58                       10  \n",
            "3            9.8          30                        2  \n",
            "4            4.9          62                        5  \n",
            "5            6.3          34                        0  \n",
            "..           ...         ...                      ...  \n",
            "991          8.2          67                        9  \n",
            "992          7.9          57                        2  \n",
            "993          4.8          71                       10  \n",
            "997          9.7          73                       10  \n",
            "999          6.0          61                        7  \n",
            "\n",
            "[499 rows x 12 columns]\n"
          ]
        }
      ]
    },
    {
      "cell_type": "markdown",
      "source": [
        "**Filling the Missing values**"
      ],
      "metadata": {
        "id": "ycsY5iczDdBx"
      }
    },
    {
      "cell_type": "code",
      "source": [
        "df_fill=df.fillna(0)\n",
        "print(\"Filled with 0\")\n",
        "print(df_fill)"
      ],
      "metadata": {
        "colab": {
          "base_uri": "https://localhost:8080/"
        },
        "id": "FL5XZ0c3DXXj",
        "outputId": "d33257ea-81cc-4fa2-adf2-a445cd4dd63a"
      },
      "execution_count": null,
      "outputs": [
        {
          "output_type": "stream",
          "name": "stdout",
          "text": [
            "Filled with 0\n",
            "     User_ID  Age             Gender  Occupation    Country  \\\n",
            "0          1   36         Non-binary       Sales     Canada   \n",
            "1          2   34             Female   Education         UK   \n",
            "2          3   65         Non-binary       Sales        USA   \n",
            "3          4   34               Male       Other  Australia   \n",
            "4          5   22             Female  Healthcare     Canada   \n",
            "..       ...  ...                ...         ...        ...   \n",
            "995      996   46         Non-binary       Other    Germany   \n",
            "996      997   31               Male       Sales     Canada   \n",
            "997      998   33             Female          IT    Germany   \n",
            "998      999   42             Female     Finance  Australia   \n",
            "999     1000   43  Prefer not to say       Sales    Germany   \n",
            "\n",
            "    Mental_Health_Condition Severity Consultation_History Stress_Level  \\\n",
            "0                        No   Medium                  Yes       Medium   \n",
            "1                       Yes        0                   No          Low   \n",
            "2                       Yes     High                   No          Low   \n",
            "3                        No      Low                   No       Medium   \n",
            "4                       Yes      Low                   No       Medium   \n",
            "..                      ...      ...                  ...          ...   \n",
            "995                      No        0                  Yes          Low   \n",
            "996                      No        0                   No         High   \n",
            "997                      No     High                  Yes       Medium   \n",
            "998                     Yes        0                   No       Medium   \n",
            "999                      No      Low                  Yes          Low   \n",
            "\n",
            "     Sleep_Hours  Work_Hours  Physical_Activity_Hours  \n",
            "0            7.1          46                        5  \n",
            "1            7.5          47                        8  \n",
            "2            8.4          58                       10  \n",
            "3            9.8          30                        2  \n",
            "4            4.9          62                        5  \n",
            "..           ...         ...                      ...  \n",
            "995          9.3          50                        0  \n",
            "996          4.5          37                        6  \n",
            "997          9.7          73                       10  \n",
            "998          6.5          79                        8  \n",
            "999          6.0          61                        7  \n",
            "\n",
            "[1000 rows x 12 columns]\n"
          ]
        }
      ]
    },
    {
      "cell_type": "markdown",
      "source": [
        "**Filling with Mean**"
      ],
      "metadata": {
        "id": "95fcAh0CEBG1"
      }
    },
    {
      "cell_type": "code",
      "source": [
        "df['Age']=df['Age'].fillna(df['Age'].mean())\n",
        "print(\"Filled with Mean\")\n",
        "print(df)"
      ],
      "metadata": {
        "colab": {
          "base_uri": "https://localhost:8080/"
        },
        "id": "VsyWDFsIDtt0",
        "outputId": "55202b24-5277-4cf1-f4f1-4d293b089e6e"
      },
      "execution_count": null,
      "outputs": [
        {
          "output_type": "stream",
          "name": "stdout",
          "text": [
            "Filled with Mean\n",
            "     User_ID  Age             Gender  Occupation    Country  \\\n",
            "0          1   36         Non-binary       Sales     Canada   \n",
            "1          2   34             Female   Education         UK   \n",
            "2          3   65         Non-binary       Sales        USA   \n",
            "3          4   34               Male       Other  Australia   \n",
            "4          5   22             Female  Healthcare     Canada   \n",
            "..       ...  ...                ...         ...        ...   \n",
            "995      996   46         Non-binary       Other    Germany   \n",
            "996      997   31               Male       Sales     Canada   \n",
            "997      998   33             Female          IT    Germany   \n",
            "998      999   42             Female     Finance  Australia   \n",
            "999     1000   43  Prefer not to say       Sales    Germany   \n",
            "\n",
            "    Mental_Health_Condition Severity Consultation_History Stress_Level  \\\n",
            "0                        No   Medium                  Yes       Medium   \n",
            "1                       Yes      NaN                   No          Low   \n",
            "2                       Yes     High                   No          Low   \n",
            "3                        No      Low                   No       Medium   \n",
            "4                       Yes      Low                   No       Medium   \n",
            "..                      ...      ...                  ...          ...   \n",
            "995                      No      NaN                  Yes          Low   \n",
            "996                      No      NaN                   No         High   \n",
            "997                      No     High                  Yes       Medium   \n",
            "998                     Yes      NaN                   No       Medium   \n",
            "999                      No      Low                  Yes          Low   \n",
            "\n",
            "     Sleep_Hours  Work_Hours  Physical_Activity_Hours  \n",
            "0            7.1          46                        5  \n",
            "1            7.5          47                        8  \n",
            "2            8.4          58                       10  \n",
            "3            9.8          30                        2  \n",
            "4            4.9          62                        5  \n",
            "..           ...         ...                      ...  \n",
            "995          9.3          50                        0  \n",
            "996          4.5          37                        6  \n",
            "997          9.7          73                       10  \n",
            "998          6.5          79                        8  \n",
            "999          6.0          61                        7  \n",
            "\n",
            "[1000 rows x 12 columns]\n"
          ]
        }
      ]
    },
    {
      "cell_type": "markdown",
      "source": [
        "**Handling Duplicates**"
      ],
      "metadata": {
        "id": "EnMGogggEXCC"
      }
    },
    {
      "cell_type": "code",
      "source": [
        "df_duplicate=df.drop_duplicates()\n",
        "print(\"After Removing Duplicates\")\n",
        "print(df_duplicate)"
      ],
      "metadata": {
        "colab": {
          "base_uri": "https://localhost:8080/"
        },
        "id": "YkQKZKMOEgh5",
        "outputId": "8bbcc012-bb6a-4993-b289-b52958ec9eea"
      },
      "execution_count": null,
      "outputs": [
        {
          "output_type": "stream",
          "name": "stdout",
          "text": [
            "After Removing Duplicates\n",
            "     User_ID  Age             Gender  Occupation    Country  \\\n",
            "0          1   36         Non-binary       Sales     Canada   \n",
            "1          2   34             Female   Education         UK   \n",
            "2          3   65         Non-binary       Sales        USA   \n",
            "3          4   34               Male       Other  Australia   \n",
            "4          5   22             Female  Healthcare     Canada   \n",
            "..       ...  ...                ...         ...        ...   \n",
            "995      996   46         Non-binary       Other    Germany   \n",
            "996      997   31               Male       Sales     Canada   \n",
            "997      998   33             Female          IT    Germany   \n",
            "998      999   42             Female     Finance  Australia   \n",
            "999     1000   43  Prefer not to say       Sales    Germany   \n",
            "\n",
            "    Mental_Health_Condition Severity Consultation_History Stress_Level  \\\n",
            "0                        No   Medium                  Yes       Medium   \n",
            "1                       Yes      NaN                   No          Low   \n",
            "2                       Yes     High                   No          Low   \n",
            "3                        No      Low                   No       Medium   \n",
            "4                       Yes      Low                   No       Medium   \n",
            "..                      ...      ...                  ...          ...   \n",
            "995                      No      NaN                  Yes          Low   \n",
            "996                      No      NaN                   No         High   \n",
            "997                      No     High                  Yes       Medium   \n",
            "998                     Yes      NaN                   No       Medium   \n",
            "999                      No      Low                  Yes          Low   \n",
            "\n",
            "     Sleep_Hours  Work_Hours  Physical_Activity_Hours  \n",
            "0            7.1          46                        5  \n",
            "1            7.5          47                        8  \n",
            "2            8.4          58                       10  \n",
            "3            9.8          30                        2  \n",
            "4            4.9          62                        5  \n",
            "..           ...         ...                      ...  \n",
            "995          9.3          50                        0  \n",
            "996          4.5          37                        6  \n",
            "997          9.7          73                       10  \n",
            "998          6.5          79                        8  \n",
            "999          6.0          61                        7  \n",
            "\n",
            "[1000 rows x 12 columns]\n"
          ]
        }
      ]
    },
    {
      "cell_type": "code",
      "source": [
        "print(df.dtypes)"
      ],
      "metadata": {
        "colab": {
          "base_uri": "https://localhost:8080/"
        },
        "id": "dV68CQ8WEqqM",
        "outputId": "032c1da8-c7bf-4d96-b592-7e6dbd42b1c7"
      },
      "execution_count": null,
      "outputs": [
        {
          "output_type": "stream",
          "name": "stdout",
          "text": [
            "User_ID                      int64\n",
            "Age                          int64\n",
            "Gender                      object\n",
            "Occupation                  object\n",
            "Country                     object\n",
            "Mental_Health_Condition     object\n",
            "Severity                    object\n",
            "Consultation_History        object\n",
            "Stress_Level                object\n",
            "Sleep_Hours                float64\n",
            "Work_Hours                   int64\n",
            "Physical_Activity_Hours      int64\n",
            "dtype: object\n"
          ]
        }
      ]
    },
    {
      "cell_type": "code",
      "source": [
        "# Map categorical stress levels to numerical values\n",
        "stress_mapping = {'Low': 0, 'Medium': 1, 'High': 2}\n",
        "df['Stress_Level'] = df['Stress_Level'].map(stress_mapping)\n",
        "\n",
        "# Convert the mapped column to numeric type\n",
        "df['Stress_Level'] = pd.to_numeric(df['Stress_Level'])\n",
        "\n",
        "print(df.dtypes)"
      ],
      "metadata": {
        "colab": {
          "base_uri": "https://localhost:8080/"
        },
        "id": "s659tXqHE9Cn",
        "outputId": "03a1626d-f9fa-4329-fc9f-9308e0940b89"
      },
      "execution_count": null,
      "outputs": [
        {
          "output_type": "stream",
          "name": "stdout",
          "text": [
            "User_ID                      int64\n",
            "Age                          int64\n",
            "Gender                      object\n",
            "Occupation                  object\n",
            "Country                     object\n",
            "Mental_Health_Condition     object\n",
            "Severity                    object\n",
            "Consultation_History        object\n",
            "Stress_Level                 int64\n",
            "Sleep_Hours                float64\n",
            "Work_Hours                   int64\n",
            "Physical_Activity_Hours      int64\n",
            "dtype: object\n"
          ]
        }
      ]
    },
    {
      "cell_type": "code",
      "source": [
        "df['Work_Hours']=df['Work_Hours'].apply(lambda x:x+2)\n",
        "print(df)"
      ],
      "metadata": {
        "colab": {
          "base_uri": "https://localhost:8080/"
        },
        "id": "oEqTIiSOHhZm",
        "outputId": "30ebc00d-a151-44a7-8700-55d2f0e7e361"
      },
      "execution_count": null,
      "outputs": [
        {
          "output_type": "stream",
          "name": "stdout",
          "text": [
            "     User_ID  Age             Gender  Occupation    Country  \\\n",
            "0          1   36         Non-binary       Sales     Canada   \n",
            "1          2   34             Female   Education         UK   \n",
            "2          3   65         Non-binary       Sales        USA   \n",
            "3          4   34               Male       Other  Australia   \n",
            "4          5   22             Female  Healthcare     Canada   \n",
            "..       ...  ...                ...         ...        ...   \n",
            "995      996   46         Non-binary       Other    Germany   \n",
            "996      997   31               Male       Sales     Canada   \n",
            "997      998   33             Female          IT    Germany   \n",
            "998      999   42             Female     Finance  Australia   \n",
            "999     1000   43  Prefer not to say       Sales    Germany   \n",
            "\n",
            "    Mental_Health_Condition Severity Consultation_History  Stress_Level  \\\n",
            "0                        No   Medium                  Yes             1   \n",
            "1                       Yes      NaN                   No             0   \n",
            "2                       Yes     High                   No             0   \n",
            "3                        No      Low                   No             1   \n",
            "4                       Yes      Low                   No             1   \n",
            "..                      ...      ...                  ...           ...   \n",
            "995                      No      NaN                  Yes             0   \n",
            "996                      No      NaN                   No             2   \n",
            "997                      No     High                  Yes             1   \n",
            "998                     Yes      NaN                   No             1   \n",
            "999                      No      Low                  Yes             0   \n",
            "\n",
            "     Sleep_Hours  Work_Hours  Physical_Activity_Hours  \n",
            "0            7.1          48                        5  \n",
            "1            7.5          49                        8  \n",
            "2            8.4          60                       10  \n",
            "3            9.8          32                        2  \n",
            "4            4.9          64                        5  \n",
            "..           ...         ...                      ...  \n",
            "995          9.3          52                        0  \n",
            "996          4.5          39                        6  \n",
            "997          9.7          75                       10  \n",
            "998          6.5          81                        8  \n",
            "999          6.0          63                        7  \n",
            "\n",
            "[1000 rows x 12 columns]\n"
          ]
        }
      ]
    },
    {
      "cell_type": "markdown",
      "source": [
        "**Normalization**"
      ],
      "metadata": {
        "id": "dAklGngzId30"
      }
    },
    {
      "cell_type": "code",
      "source": [
        "df['Work_Hours']=(df['Work_Hours']-df['Work_Hours'].min())/(df['Work_Hours'].max()-df['Work_Hours'].min())\n",
        "print(df)"
      ],
      "metadata": {
        "colab": {
          "base_uri": "https://localhost:8080/"
        },
        "id": "PjVzPgrTIdUL",
        "outputId": "366431bb-e93a-4d1e-8ebe-4bbe78ee8d55"
      },
      "execution_count": null,
      "outputs": [
        {
          "output_type": "stream",
          "name": "stdout",
          "text": [
            "     User_ID  Age             Gender  Occupation    Country  \\\n",
            "0          1   36         Non-binary       Sales     Canada   \n",
            "1          2   34             Female   Education         UK   \n",
            "2          3   65         Non-binary       Sales        USA   \n",
            "3          4   34               Male       Other  Australia   \n",
            "4          5   22             Female  Healthcare     Canada   \n",
            "..       ...  ...                ...         ...        ...   \n",
            "995      996   46         Non-binary       Other    Germany   \n",
            "996      997   31               Male       Sales     Canada   \n",
            "997      998   33             Female          IT    Germany   \n",
            "998      999   42             Female     Finance  Australia   \n",
            "999     1000   43  Prefer not to say       Sales    Germany   \n",
            "\n",
            "    Mental_Health_Condition Severity Consultation_History  Stress_Level  \\\n",
            "0                        No   Medium                  Yes             1   \n",
            "1                       Yes      NaN                   No             0   \n",
            "2                       Yes     High                   No             0   \n",
            "3                        No      Low                   No             1   \n",
            "4                       Yes      Low                   No             1   \n",
            "..                      ...      ...                  ...           ...   \n",
            "995                      No      NaN                  Yes             0   \n",
            "996                      No      NaN                   No             2   \n",
            "997                      No     High                  Yes             1   \n",
            "998                     Yes      NaN                   No             1   \n",
            "999                      No      Low                  Yes             0   \n",
            "\n",
            "     Sleep_Hours  Work_Hours  Physical_Activity_Hours  \n",
            "0            7.1        0.32                        5  \n",
            "1            7.5        0.34                        8  \n",
            "2            8.4        0.56                       10  \n",
            "3            9.8        0.00                        2  \n",
            "4            4.9        0.64                        5  \n",
            "..           ...         ...                      ...  \n",
            "995          9.3        0.40                        0  \n",
            "996          4.5        0.14                        6  \n",
            "997          9.7        0.86                       10  \n",
            "998          6.5        0.98                        8  \n",
            "999          6.0        0.62                        7  \n",
            "\n",
            "[1000 rows x 12 columns]\n"
          ]
        }
      ]
    },
    {
      "cell_type": "markdown",
      "source": [
        "**Merging Datasets**"
      ],
      "metadata": {
        "id": "DC-TiQ9sI3rc"
      }
    },
    {
      "cell_type": "code",
      "source": [
        "d ={\n",
        "    'ID':[1,2,3],\n",
        "    'Name':['THRISHOOL','SUMANTH','RISHAAK'],\n",
        "    'Age':[25,30,28],\n",
        "    'Marks':[85,90,92]\n",
        "}"
      ],
      "metadata": {
        "id": "wepV2HZEI7Qf"
      },
      "execution_count": null,
      "outputs": []
    },
    {
      "cell_type": "code",
      "source": [
        "course={\n",
        "    'Id':[1,2,3],\n",
        "    'Course':['PFDS','FAM','DL']\n",
        "}"
      ],
      "metadata": {
        "id": "MpRo45oCKIUx"
      },
      "execution_count": null,
      "outputs": []
    },
    {
      "cell_type": "code",
      "source": [
        "merged_d=pd.merge(pd.DataFrame(d),pd.DataFrame(course),left_on='ID',right_on='Id')\n",
        "print(merged_d)"
      ],
      "metadata": {
        "colab": {
          "base_uri": "https://localhost:8080/"
        },
        "id": "KcE1lFBrKpNK",
        "outputId": "ff63288f-c8e2-48b2-ff9c-aed0329c5f22"
      },
      "execution_count": null,
      "outputs": [
        {
          "output_type": "stream",
          "name": "stdout",
          "text": [
            "   ID       Name  Age  Marks  Id Course\n",
            "0   1  THRISHOOL   25     85   1   PFDS\n",
            "1   2    SUMANTH   30     90   2    FAM\n",
            "2   3    RISHAAK   28     92   3     DL\n"
          ]
        }
      ]
    },
    {
      "cell_type": "markdown",
      "source": [
        "**Lab_Program_01**"
      ],
      "metadata": {
        "id": "nN4gnuF6MaRm"
      }
    },
    {
      "cell_type": "code",
      "source": [
        "import pandas as pd\n",
        "\n",
        "p = pd.DataFrame({\n",
        "    'pid': [1, 2, 3, 4],\n",
        "    'pname': ['Laptop', 'Phone', 'Tablet', 'Headphones'],\n",
        "    'cat': ['Electronics', 'Electronics', 'Electronics', 'Accessories'],\n",
        "    'price': [60000, 30000, 20000, 5000]\n",
        "})\n",
        "\n",
        "s = pd.DataFrame({\n",
        "    'sid': [101, 102, 103, 104, 105, 106, 107],\n",
        "    'pid': [1, 2, 2, 3, 4, 4, 1],\n",
        "    'qty': [2, 1, 3, 2, 5, 2, 1]\n",
        "})\n",
        "\n",
        "im = pd.merge(s, p, on='pid', how='inner')\n",
        "om = pd.merge(s, p, on='pid', how='outer')\n",
        "\n",
        "im['rev'] = im['price'] * im['qty']\n",
        "tot_rev = im['rev'].sum()\n",
        "avg_price = p['price'].mean()\n",
        "ps = im.groupby('pname')['qty'].sum().reset_index()\n",
        "cs = im.groupby('cat')['rev'].sum().reset_index()\n",
        "best_cat = cs.loc[cs['rev'].idxmax()]\n",
        "\n",
        "print(\"Products:\\n\", p, \"\\n\")\n",
        "print(\"Sales:\\n\", s, \"\\n\")\n",
        "print(\"Inner Merge:\\n\", im, \"\\n\")\n",
        "print(\"Outer Merge:\\n\", om, \"\\n\")\n",
        "print(\"Total Revenue:\", tot_rev, \"\\n\")\n",
        "print(\"Average Price:\", avg_price, \"\\n\")\n",
        "print(\"Product Sales:\\n\", ps, \"\\n\")\n",
        "print(\"Category Revenue:\\n\", cs, \"\\n\")\n",
        "print(\"Best Category:\\n\", best_cat)\n"
      ],
      "metadata": {
        "colab": {
          "base_uri": "https://localhost:8080/"
        },
        "id": "cJ_J8fCnMFBK",
        "outputId": "19295787-fe4d-4d29-e657-c46085e14dcd"
      },
      "execution_count": 68,
      "outputs": [
        {
          "output_type": "stream",
          "name": "stdout",
          "text": [
            "Products:\n",
            "    pid       pname          cat  price\n",
            "0    1      Laptop  Electronics  60000\n",
            "1    2       Phone  Electronics  30000\n",
            "2    3      Tablet  Electronics  20000\n",
            "3    4  Headphones  Accessories   5000 \n",
            "\n",
            "Sales:\n",
            "    sid  pid  qty\n",
            "0  101    1    2\n",
            "1  102    2    1\n",
            "2  103    2    3\n",
            "3  104    3    2\n",
            "4  105    4    5\n",
            "5  106    4    2\n",
            "6  107    1    1 \n",
            "\n",
            "Inner Merge:\n",
            "    sid  pid  qty       pname          cat  price     rev\n",
            "0  101    1    2      Laptop  Electronics  60000  120000\n",
            "1  102    2    1       Phone  Electronics  30000   30000\n",
            "2  103    2    3       Phone  Electronics  30000   90000\n",
            "3  104    3    2      Tablet  Electronics  20000   40000\n",
            "4  105    4    5  Headphones  Accessories   5000   25000\n",
            "5  106    4    2  Headphones  Accessories   5000   10000\n",
            "6  107    1    1      Laptop  Electronics  60000   60000 \n",
            "\n",
            "Outer Merge:\n",
            "    sid  pid  qty       pname          cat  price\n",
            "0  101    1    2      Laptop  Electronics  60000\n",
            "1  107    1    1      Laptop  Electronics  60000\n",
            "2  102    2    1       Phone  Electronics  30000\n",
            "3  103    2    3       Phone  Electronics  30000\n",
            "4  104    3    2      Tablet  Electronics  20000\n",
            "5  105    4    5  Headphones  Accessories   5000\n",
            "6  106    4    2  Headphones  Accessories   5000 \n",
            "\n",
            "Total Revenue: 375000 \n",
            "\n",
            "Average Price: 28750.0 \n",
            "\n",
            "Product Sales:\n",
            "         pname  qty\n",
            "0  Headphones    7\n",
            "1      Laptop    3\n",
            "2       Phone    4\n",
            "3      Tablet    2 \n",
            "\n",
            "Category Revenue:\n",
            "            cat     rev\n",
            "0  Accessories   35000\n",
            "1  Electronics  340000 \n",
            "\n",
            "Best Category:\n",
            " cat    Electronics\n",
            "rev         340000\n",
            "Name: 1, dtype: object\n"
          ]
        }
      ]
    },
    {
      "cell_type": "markdown",
      "source": [
        "**Lab_Program_02**"
      ],
      "metadata": {
        "id": "nzAKHvVhMSvD"
      }
    },
    {
      "cell_type": "code",
      "source": [
        "import pandas as pd\n",
        "\n",
        "t = pd.DataFrame({\n",
        "    'tid': [1, 2, 3, 4],\n",
        "    'tname': ['Alice', 'Bob', 'Charlie', 'David'],\n",
        "    'dept': ['CSE', 'CSE', 'AI', 'CSE']\n",
        "})\n",
        "\n",
        "c = pd.DataFrame({\n",
        "    'cid': [101, 102, 103, 104, 105, 106],\n",
        "    'cname': ['Python', 'DBMS', 'AI Basics', 'ML', 'OS', 'Deep Learning'],\n",
        "    'tid': [1, 2, 2, 3, 4, 3]\n",
        "})\n",
        "\n",
        "print(\"Teachers:\\n\", t, \"\\n\")\n",
        "print(\"Courses:\\n\", c)\n",
        "\n",
        "im = pd.merge(c, t, on='tid', how='inner')\n",
        "lm = pd.merge(t, c, on='tid', how='left')\n",
        "\n",
        "print(\"\\nInner Join:\\n\", im)\n",
        "print(\"\\nLeft Join:\\n\", lm)\n"
      ],
      "metadata": {
        "colab": {
          "base_uri": "https://localhost:8080/"
        },
        "id": "kWGdwN96MR8i",
        "outputId": "1f19e45f-fa57-4b47-ee3b-fc02734fe9b1"
      },
      "execution_count": null,
      "outputs": [
        {
          "output_type": "stream",
          "name": "stdout",
          "text": [
            "Teachers:\n",
            "    tid    tname dept\n",
            "0    1    Alice  CSE\n",
            "1    2      Bob  CSE\n",
            "2    3  Charlie   AI\n",
            "3    4    David  CSE \n",
            "\n",
            "Courses:\n",
            "    cid          cname  tid\n",
            "0  101         Python    1\n",
            "1  102           DBMS    2\n",
            "2  103      AI Basics    2\n",
            "3  104             ML    3\n",
            "4  105             OS    4\n",
            "5  106  Deep Learning    3\n",
            "\n",
            "Inner Join:\n",
            "    cid          cname  tid    tname dept\n",
            "0  101         Python    1    Alice  CSE\n",
            "1  102           DBMS    2      Bob  CSE\n",
            "2  103      AI Basics    2      Bob  CSE\n",
            "3  104             ML    3  Charlie   AI\n",
            "4  105             OS    4    David  CSE\n",
            "5  106  Deep Learning    3  Charlie   AI\n",
            "\n",
            "Left Join:\n",
            "    tid    tname dept  cid          cname\n",
            "0    1    Alice  CSE  101         Python\n",
            "1    2      Bob  CSE  102           DBMS\n",
            "2    2      Bob  CSE  103      AI Basics\n",
            "3    3  Charlie   AI  104             ML\n",
            "4    3  Charlie   AI  106  Deep Learning\n",
            "5    4    David  CSE  105             OS\n"
          ]
        }
      ]
    }
  ]
}