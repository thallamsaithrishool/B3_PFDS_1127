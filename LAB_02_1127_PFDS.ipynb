{
  "nbformat": 4,
  "nbformat_minor": 0,
  "metadata": {
    "colab": {
      "provenance": [],
      "authorship_tag": "ABX9TyOBh5J7d+4TJvtbY1Y8O8Yn",
      "include_colab_link": true
    },
    "kernelspec": {
      "name": "python3",
      "display_name": "Python 3"
    },
    "language_info": {
      "name": "python"
    }
  },
  "cells": [
    {
      "cell_type": "markdown",
      "metadata": {
        "id": "view-in-github",
        "colab_type": "text"
      },
      "source": [
        "<a href=\"https://colab.research.google.com/github/thallamsaithrishool/B3_PFDS_1127/blob/main/LAB_02_1127_PFDS.ipynb\" target=\"_parent\"><img src=\"https://colab.research.google.com/assets/colab-badge.svg\" alt=\"Open In Colab\"/></a>"
      ]
    },
    {
      "cell_type": "markdown",
      "source": [
        "#lab -02"
      ],
      "metadata": {
        "id": "A0bipTw_6CSu"
      }
    },
    {
      "cell_type": "code",
      "execution_count": null,
      "metadata": {
        "colab": {
          "base_uri": "https://localhost:8080/"
        },
        "id": "In85vWXQEAQ2",
        "outputId": "f82ab42b-7e02-46bc-9bdd-fec6d1c85cae"
      },
      "outputs": [
        {
          "output_type": "stream",
          "name": "stdout",
          "text": [
            "All Marks:\n",
            " [[85 78 92]\n",
            " [76 88 81]\n",
            " [90 94 89]\n",
            " [65 70 72]\n",
            " [88 91 85]]\n"
          ]
        }
      ],
      "source": [
        "import numpy as np\n",
        "\n",
        "a = np.array([\n",
        "    [85, 78, 92],\n",
        "    [76, 88, 81],\n",
        "    [90, 94, 89],\n",
        "    [65, 70, 72],\n",
        "    [88, 91, 85]\n",
        "])\n",
        "\n",
        "print(\"All Marks:\\n\", a)\n"
      ]
    },
    {
      "cell_type": "code",
      "source": [
        "b = np.mean(a, axis=1)\n",
        "c = np.min(a, axis=1)\n",
        "d = np.max(a, axis=1)\n",
        "\n",
        "print(\"\\nAverage Marks:\", b)\n",
        "print(\"Minimum Marks:\", c)\n",
        "print(\"Maximum Marks:\", d)\n"
      ],
      "metadata": {
        "colab": {
          "base_uri": "https://localhost:8080/"
        },
        "id": "As8tEvEnEBYK",
        "outputId": "a9a89cfc-3234-420c-f198-3f6e9f8a48fb"
      },
      "execution_count": null,
      "outputs": [
        {
          "output_type": "stream",
          "name": "stdout",
          "text": [
            "\n",
            "Average Marks: [85.         81.66666667 91.         69.         88.        ]\n",
            "Minimum Marks: [78 76 89 65 85]\n",
            "Maximum Marks: [92 88 94 72 91]\n"
          ]
        }
      ]
    },
    {
      "cell_type": "code",
      "source": [
        "e = a[[0, 2]]\n",
        "print(\"\\nMarks of Student 1 and 3:\\n\", e)\n"
      ],
      "metadata": {
        "colab": {
          "base_uri": "https://localhost:8080/"
        },
        "id": "U8ocG5IdEBUn",
        "outputId": "315c668d-16b0-4387-ba6d-3e0c399ad3f2"
      },
      "execution_count": null,
      "outputs": [
        {
          "output_type": "stream",
          "name": "stdout",
          "text": [
            "\n",
            "Marks of Student 1 and 3:\n",
            " [[85 78 92]\n",
            " [90 94 89]]\n"
          ]
        }
      ]
    },
    {
      "cell_type": "code",
      "source": [
        "f = np.any(a > 80, axis=1)\n",
        "g = a[f]\n",
        "\n",
        "print(\"\\nStudents scoring above 80 in any subject:\\n\", g)\n"
      ],
      "metadata": {
        "colab": {
          "base_uri": "https://localhost:8080/"
        },
        "id": "VS-fimg_ELVh",
        "outputId": "5aaa64c0-e1b6-48f9-cd45-1d18b0b03216"
      },
      "execution_count": null,
      "outputs": [
        {
          "output_type": "stream",
          "name": "stdout",
          "text": [
            "\n",
            "Students scoring above 80 in any subject:\n",
            " [[85 78 92]\n",
            " [76 88 81]\n",
            " [90 94 89]\n",
            " [88 91 85]]\n"
          ]
        }
      ]
    },
    {
      "cell_type": "code",
      "source": [
        "h = a.T\n",
        "print(\"\\nSubject-wise Marks:\\n\", h)\n"
      ],
      "metadata": {
        "colab": {
          "base_uri": "https://localhost:8080/"
        },
        "id": "CBcxqEZGELR-",
        "outputId": "9982cac5-3848-4da8-c15e-40b3a1810637"
      },
      "execution_count": null,
      "outputs": [
        {
          "output_type": "stream",
          "name": "stdout",
          "text": [
            "\n",
            "Subject-wise Marks:\n",
            " [[85 76 90 65 88]\n",
            " [78 88 94 70 91]\n",
            " [92 81 89 72 85]]\n"
          ]
        }
      ]
    },
    {
      "cell_type": "code",
      "source": [
        "print(\"\\nAnalysis:\")\n",
        "print(\"• Student 3 has top marks overall.\")\n",
        "print(\"• Student 4 has lowest average.\")\n",
        "print(\"• Subject 2 has generally high scores.\")\n",
        "print(\"• Many students scored above 80 in at least one subject.\")\n"
      ],
      "metadata": {
        "colab": {
          "base_uri": "https://localhost:8080/"
        },
        "id": "zT2_XMbFERlg",
        "outputId": "0b9cbb5d-56f8-4a67-ce76-c7788b09d604"
      },
      "execution_count": null,
      "outputs": [
        {
          "output_type": "stream",
          "name": "stdout",
          "text": [
            "\n",
            "Analysis:\n",
            "• Student 3 has top marks overall.\n",
            "• Student 4 has lowest average.\n",
            "• Subject 2 has generally high scores.\n",
            "• Many students scored above 80 in at least one subject.\n"
          ]
        }
      ]
    },
    {
      "cell_type": "markdown",
      "source": [
        "**ASSIGNMENT CODES OF LAB_02**"
      ],
      "metadata": {
        "id": "eCC1-UrV6FRX"
      }
    },
    {
      "cell_type": "code",
      "source": [
        "import numpy as np\n",
        "import matplotlib.pyplot as plt\n",
        "\n",
        "temps = np.array([24, 27, 30, 35, 38, 40, 36, 34, 32, 28, 25, 22])\n",
        "months = np.array([\"Jan\",\"Feb\",\"Mar\",\"Apr\",\"May\",\"Jun\",\"Jul\",\"Aug\",\"Sep\",\"Oct\",\"Nov\",\"Dec\"])\n",
        "\n",
        "print(\"Monthly Temperatures (°C):\\n\", temps)\n",
        "\n",
        "avg = np.mean(temps)\n",
        "hot = np.max(temps)\n",
        "cold = np.min(temps)\n",
        "\n",
        "print(\"\\nAverage Temperature:\", avg)\n",
        "print(\"Hottest Month:\", months[np.argmax(temps)], \"-\", hot, \"°C\")\n",
        "print(\"Coldest Month:\", months[np.argmin(temps)], \"-\", cold, \"°C\")\n",
        "\n",
        "norm = (temps - np.min(temps)) / (np.max(temps) - np.min(temps))\n",
        "print(\"\\nNormalized Temperatures:\\n\", norm)\n",
        "\n",
        "above_avg = months[temps > avg]\n",
        "print(\"\\nMonths Above Average Temperature:\", above_avg)\n",
        "\n",
        "fahrenheit = (temps * 9/5) + 32\n",
        "print(\"\\nTemperatures in Fahrenheit:\\n\", fahrenheit)\n",
        "\n",
        "plt.plot(months, temps, marker='o', linestyle='-', color='b')\n",
        "plt.title(\"Monthly Temperature Trend\")\n",
        "plt.xlabel(\"Month\")\n",
        "plt.ylabel(\"Temperature (°C)\")\n",
        "plt.grid(True)\n",
        "plt.show()\n"
      ],
      "metadata": {
        "id": "QzEmCf-A6P_U",
        "outputId": "a0ac2568-55dc-4dcd-ea65-70146a09412d",
        "colab": {
          "base_uri": "https://localhost:8080/",
          "height": 732
        }
      },
      "execution_count": 1,
      "outputs": [
        {
          "output_type": "stream",
          "name": "stdout",
          "text": [
            "Monthly Temperatures (°C):\n",
            " [24 27 30 35 38 40 36 34 32 28 25 22]\n",
            "\n",
            "Average Temperature: 30.916666666666668\n",
            "Hottest Month: Jun - 40 °C\n",
            "Coldest Month: Dec - 22 °C\n",
            "\n",
            "Normalized Temperatures:\n",
            " [0.11111111 0.27777778 0.44444444 0.72222222 0.88888889 1.\n",
            " 0.77777778 0.66666667 0.55555556 0.33333333 0.16666667 0.        ]\n",
            "\n",
            "Months Above Average Temperature: ['Apr' 'May' 'Jun' 'Jul' 'Aug' 'Sep']\n",
            "\n",
            "Temperatures in Fahrenheit:\n",
            " [ 75.2  80.6  86.   95.  100.4 104.   96.8  93.2  89.6  82.4  77.   71.6]\n"
          ]
        },
        {
          "output_type": "display_data",
          "data": {
            "text/plain": [
              "<Figure size 640x480 with 1 Axes>"
            ],
            "image/png": "[encoded data removed]"
          },
          "metadata": {}
        }
      ]
    },
    {
      "cell_type": "code",
      "source": [
        "import pandas as pd\n",
        "\n",
        "data = {\n",
        "    \"OrderID\": [101, 102, 103, 104, 105],\n",
        "    \"Product\": [\"Laptop\", \"Phone\", \"Tablet\", \"Headphones\", \"Phone\"],\n",
        "    \"Quantity\": [2, 5, 3, 10, 4],\n",
        "    \"Price\": [50000, 20000, 15000, 2000, 20000]\n",
        "}\n",
        "\n",
        "df = pd.DataFrame(data)\n",
        "print(\"Sales Data:\\n\", df)\n",
        "\n",
        "df[\"TotalSale\"] = df[\"Quantity\"] * df[\"Price\"]\n",
        "print(\"\\nTotal Sale per Order:\\n\", df)\n",
        "\n",
        "filt = df[df[\"TotalSale\"] > 1000]\n",
        "print(\"\\nOrders with Total Sale > 1000:\\n\", filt)\n",
        "\n",
        "most_sold = df.groupby(\"Product\")[\"Quantity\"].sum().idxmax()\n",
        "print(\"\\nMost Sold Product:\", most_sold)\n",
        "\n",
        "df[\"Discount\"] = df[\"TotalSale\"].apply(lambda x: 0.1*x if x > 50000 else 0.05*x)\n",
        "print(\"\\nSales Data with Discount:\\n\", df)\n",
        "\n",
        "df.to_excel(\"sales_summary.xlsx\", index=False)\n",
        "print(\"\\nSales summary exported to Excel (sales_summary.xlsx)\")\n"
      ],
      "metadata": {
        "id": "_OoxOuSh6aG9",
        "outputId": "636bb82e-9f2b-4ef9-db87-063b61259efc",
        "colab": {
          "base_uri": "https://localhost:8080/"
        }
      },
      "execution_count": 2,
      "outputs": [
        {
          "output_type": "stream",
          "name": "stdout",
          "text": [
            "Sales Data:\n",
            "    OrderID     Product  Quantity  Price\n",
            "0      101      Laptop         2  50000\n",
            "1      102       Phone         5  20000\n",
            "2      103      Tablet         3  15000\n",
            "3      104  Headphones        10   2000\n",
            "4      105       Phone         4  20000\n",
            "\n",
            "Total Sale per Order:\n",
            "    OrderID     Product  Quantity  Price  TotalSale\n",
            "0      101      Laptop         2  50000     100000\n",
            "1      102       Phone         5  20000     100000\n",
            "2      103      Tablet         3  15000      45000\n",
            "3      104  Headphones        10   2000      20000\n",
            "4      105       Phone         4  20000      80000\n",
            "\n",
            "Orders with Total Sale > 1000:\n",
            "    OrderID     Product  Quantity  Price  TotalSale\n",
            "0      101      Laptop         2  50000     100000\n",
            "1      102       Phone         5  20000     100000\n",
            "2      103      Tablet         3  15000      45000\n",
            "3      104  Headphones        10   2000      20000\n",
            "4      105       Phone         4  20000      80000\n",
            "\n",
            "Most Sold Product: Headphones\n",
            "\n",
            "Sales Data with Discount:\n",
            "    OrderID     Product  Quantity  Price  TotalSale  Discount\n",
            "0      101      Laptop         2  50000     100000   10000.0\n",
            "1      102       Phone         5  20000     100000   10000.0\n",
            "2      103      Tablet         3  15000      45000    2250.0\n",
            "3      104  Headphones        10   2000      20000    1000.0\n",
            "4      105       Phone         4  20000      80000    8000.0\n",
            "\n",
            "Sales summary exported to Excel (sales_summary.xlsx)\n"
          ]
        }
      ]
    }
  ]
}