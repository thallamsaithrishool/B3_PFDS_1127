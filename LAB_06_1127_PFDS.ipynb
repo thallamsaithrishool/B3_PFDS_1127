{
  "nbformat": 4,
  "nbformat_minor": 0,
  "metadata": {
    "colab": {
      "provenance": [],
      "authorship_tag": "ABX9TyMCrP3Ii9WeNeNu5MlfmIQ6",
      "include_colab_link": true
    },
    "kernelspec": {
      "name": "python3",
      "display_name": "Python 3"
    },
    "language_info": {
      "name": "python"
    }
  },
  "cells": [
    {
      "cell_type": "markdown",
      "metadata": {
        "id": "view-in-github",
        "colab_type": "text"
      },
      "source": [
        "<a href=\"https://colab.research.google.com/github/thallamsaithrishool/B3_PFDS_1127/blob/main/LAB_06_1127_PFDS.ipynb\" target=\"_parent\"><img src=\"https://colab.research.google.com/assets/colab-badge.svg\" alt=\"Open In Colab\"/></a>"
      ]
    },
    {
      "cell_type": "markdown",
      "source": [
        "**WORKING WITH DATETIME**"
      ],
      "metadata": {
        "id": "zS7uG2gj37IT"
      }
    },
    {
      "cell_type": "code",
      "execution_count": null,
      "metadata": {
        "colab": {
          "base_uri": "https://localhost:8080/"
        },
        "id": "jNT9Hwfg3Xg_",
        "outputId": "de363bd3-f921-423a-e8b2-11190355a76b"
      },
      "outputs": [
        {
          "output_type": "stream",
          "name": "stdout",
          "text": [
            "2025-06-22 10:30:00\n"
          ]
        }
      ],
      "source": [
        "from datetime import datetime\n",
        "df= datetime(2025,6,22,10,30,00)\n",
        "print(df)"
      ]
    },
    {
      "cell_type": "markdown",
      "source": [
        "**CONVERTING STRINGS TO DATETIME IN PANDAS**"
      ],
      "metadata": {
        "id": "fLoz24ai4Ol2"
      }
    },
    {
      "cell_type": "code",
      "source": [
        "import pandas as pd\n",
        "\n",
        "date_str = ['2025-08-22', '2025-08-23']\n",
        "dates = pd.to_datetime(date_str)\n",
        "print(dates)"
      ],
      "metadata": {
        "colab": {
          "base_uri": "https://localhost:8080/"
        },
        "id": "ihMRcpZO4Dw1",
        "outputId": "987f769d-50cb-4478-924c-6118a3ceb040"
      },
      "execution_count": null,
      "outputs": [
        {
          "output_type": "stream",
          "name": "stdout",
          "text": [
            "DatetimeIndex(['2025-08-22', '2025-08-23'], dtype='datetime64[ns]', freq=None)\n"
          ]
        }
      ]
    },
    {
      "cell_type": "markdown",
      "source": [
        "**EXTRACTING DATE AND TIME COMPONENTS**"
      ],
      "metadata": {
        "id": "PBJrXDdi4yEw"
      }
    },
    {
      "cell_type": "code",
      "source": [
        "ls=pd.to_datetime(\"2025-08-10 5:30:45\")\n",
        "print(ls.year)\n",
        "print(ls.month)\n",
        "print(ls.weekday())\n",
        "print(ls.day)\n",
        "print(ls.hour)"
      ],
      "metadata": {
        "colab": {
          "base_uri": "https://localhost:8080/"
        },
        "id": "WT6sfb2K43n8",
        "outputId": "e7e76894-53b2-43d4-cc93-dd4266bf81c6"
      },
      "execution_count": null,
      "outputs": [
        {
          "output_type": "stream",
          "name": "stdout",
          "text": [
            "2025\n",
            "8\n",
            "6\n",
            "10\n",
            "5\n"
          ]
        }
      ]
    },
    {
      "cell_type": "markdown",
      "source": [
        "**CREATING DATA RANGES**"
      ],
      "metadata": {
        "id": "pi9lDsEG6C2A"
      }
    },
    {
      "cell_type": "code",
      "source": [
        "pd.date_range(start='2025-01-01',periods=10,freq='ME')\n",
        "print(df)"
      ],
      "metadata": {
        "colab": {
          "base_uri": "https://localhost:8080/"
        },
        "id": "uEUbGPZz6IZH",
        "outputId": "d7900447-ecd0-4257-a4e4-087b033704a6"
      },
      "execution_count": null,
      "outputs": [
        {
          "output_type": "stream",
          "name": "stdout",
          "text": [
            "2025-06-22 10:30:00\n"
          ]
        }
      ]
    },
    {
      "cell_type": "markdown",
      "source": [
        "**TIME SERIES DATA IN PANDAS**\n",
        "\n",
        "\n",
        "1.   CREATING TIME SERIES\n",
        "\n",
        "\n"
      ],
      "metadata": {
        "id": "raYVQd946irv"
      }
    },
    {
      "cell_type": "code",
      "source": [
        "import pandas as pd\n",
        "import numpy as np\n",
        "dates=pd.date_range(start='2025-01-01',periods=6,freq='D')\n",
        "ls=pd.Series(np.random.randn(6),index=dates)\n",
        "print(ls)"
      ],
      "metadata": {
        "colab": {
          "base_uri": "https://localhost:8080/"
        },
        "id": "7y3hMuKq6n9X",
        "outputId": "cd9ff9cc-65af-4184-9bc5-a6124025d610"
      },
      "execution_count": null,
      "outputs": [
        {
          "output_type": "stream",
          "name": "stdout",
          "text": [
            "2025-01-01    0.082663\n",
            "2025-01-02    0.911236\n",
            "2025-01-03   -0.084005\n",
            "2025-01-04   -0.074480\n",
            "2025-01-05    0.641787\n",
            "2025-01-06   -0.690086\n",
            "Freq: D, dtype: float64\n"
          ]
        }
      ]
    },
    {
      "cell_type": "markdown",
      "source": [
        "\n",
        "2.   INDEXING AND SLICING WITH DATES\n",
        "\n",
        "\n",
        "\n"
      ],
      "metadata": {
        "id": "mcdr4gmG7blH"
      }
    },
    {
      "cell_type": "code",
      "source": [
        "print(ls['2025-01-02'])\n",
        "print(ls['2025-01-03':'2025-01-04'])"
      ],
      "metadata": {
        "colab": {
          "base_uri": "https://localhost:8080/"
        },
        "id": "ABYbs34e7n0n",
        "outputId": "05735f32-88ef-4acb-c8bf-8aaededc907f"
      },
      "execution_count": null,
      "outputs": [
        {
          "output_type": "stream",
          "name": "stdout",
          "text": [
            "0.9112364659883816\n",
            "2025-01-03   -0.084005\n",
            "2025-01-04   -0.074480\n",
            "Freq: D, dtype: float64\n"
          ]
        }
      ]
    },
    {
      "cell_type": "markdown",
      "source": [
        "\n",
        "\n",
        "3. TIME-BASED INDEXING\n",
        "\n"
      ],
      "metadata": {
        "id": "3JsjiNv37xd1"
      }
    },
    {
      "cell_type": "code",
      "source": [
        "print(ls['2025-01-01'])"
      ],
      "metadata": {
        "colab": {
          "base_uri": "https://localhost:8080/"
        },
        "id": "HDC63v2-74RN",
        "outputId": "b1d99c91-3ba1-473a-ef96-d39f7d392109"
      },
      "execution_count": null,
      "outputs": [
        {
          "output_type": "stream",
          "name": "stdout",
          "text": [
            "0.0826626259428109\n"
          ]
        }
      ]
    },
    {
      "cell_type": "markdown",
      "source": [
        "**TIME-BASED OPERATIONS IN PANDAS**"
      ],
      "metadata": {
        "id": "O8JkjahU8K_h"
      }
    },
    {
      "cell_type": "code",
      "source": [
        "#1)Resampling\n",
        "ls=pd.Series(np.random.randn(10),index=pd.date_range('2025-01-01',periods=10,freq='D'))\n",
        "print(ls)\n",
        "monthly=ls.resample('M').mean()\n",
        "print(monthly)"
      ],
      "metadata": {
        "colab": {
          "base_uri": "https://localhost:8080/"
        },
        "id": "nh1VDGb98Rux",
        "outputId": "e9ee5bb3-a2f5-474b-aafb-22276e818147"
      },
      "execution_count": null,
      "outputs": [
        {
          "output_type": "stream",
          "name": "stdout",
          "text": [
            "2025-01-01   -1.143947\n",
            "2025-01-02   -0.260680\n",
            "2025-01-03   -0.357892\n",
            "2025-01-04   -1.441127\n",
            "2025-01-05   -0.302146\n",
            "2025-01-06    1.134411\n",
            "2025-01-07   -0.271053\n",
            "2025-01-08    1.128439\n",
            "2025-01-09   -0.957288\n",
            "2025-01-10    0.017842\n",
            "Freq: D, dtype: float64\n",
            "2025-01-31   -0.245344\n",
            "Freq: ME, dtype: float64\n"
          ]
        },
        {
          "output_type": "stream",
          "name": "stderr",
          "text": [
            "/tmp/ipython-input-272935596.py:4: FutureWarning: 'M' is deprecated and will be removed in a future version, please use 'ME' instead.\n",
            "  monthly=ls.resample('M').mean()\n"
          ]
        }
      ]
    },
    {
      "cell_type": "code",
      "source": [
        "#Shifting Data\n",
        "print(ls.shift(1))"
      ],
      "metadata": {
        "colab": {
          "base_uri": "https://localhost:8080/"
        },
        "id": "5T8tp6jJ84mc",
        "outputId": "461dc94d-306b-41e8-8175-122a59c331ea"
      },
      "execution_count": null,
      "outputs": [
        {
          "output_type": "stream",
          "name": "stdout",
          "text": [
            "2025-01-01         NaN\n",
            "2025-01-02   -1.143947\n",
            "2025-01-03   -0.260680\n",
            "2025-01-04   -0.357892\n",
            "2025-01-05   -1.441127\n",
            "2025-01-06   -0.302146\n",
            "2025-01-07    1.134411\n",
            "2025-01-08   -0.271053\n",
            "2025-01-09    1.128439\n",
            "2025-01-10   -0.957288\n",
            "Freq: D, dtype: float64\n"
          ]
        }
      ]
    },
    {
      "cell_type": "code",
      "source": [
        "print(ls.shift(-1))"
      ],
      "metadata": {
        "colab": {
          "base_uri": "https://localhost:8080/"
        },
        "id": "aR4Ps4wZ9Fna",
        "outputId": "2169c079-c33d-4f9d-c47c-49b258b5a333"
      },
      "execution_count": null,
      "outputs": [
        {
          "output_type": "stream",
          "name": "stdout",
          "text": [
            "2025-01-01   -0.260680\n",
            "2025-01-02   -0.357892\n",
            "2025-01-03   -1.441127\n",
            "2025-01-04   -0.302146\n",
            "2025-01-05    1.134411\n",
            "2025-01-06   -0.271053\n",
            "2025-01-07    1.128439\n",
            "2025-01-08   -0.957288\n",
            "2025-01-09    0.017842\n",
            "2025-01-10         NaN\n",
            "Freq: D, dtype: float64\n"
          ]
        }
      ]
    },
    {
      "cell_type": "code",
      "source": [
        "#Rolling /Moving Window\n",
        "print(ls.rolling(window=3).mean())"
      ],
      "metadata": {
        "colab": {
          "base_uri": "https://localhost:8080/"
        },
        "id": "fqA6bK2v9KKl",
        "outputId": "eee5d44e-c464-42a7-8076-c13451dae0b6"
      },
      "execution_count": null,
      "outputs": [
        {
          "output_type": "stream",
          "name": "stdout",
          "text": [
            "2025-01-01         NaN\n",
            "2025-01-02         NaN\n",
            "2025-01-03   -0.587506\n",
            "2025-01-04   -0.686566\n",
            "2025-01-05   -0.700389\n",
            "2025-01-06   -0.202954\n",
            "2025-01-07    0.187071\n",
            "2025-01-08    0.663932\n",
            "2025-01-09   -0.033301\n",
            "2025-01-10    0.062998\n",
            "Freq: D, dtype: float64\n"
          ]
        }
      ]
    },
    {
      "cell_type": "markdown",
      "source": [
        "**EXAMPLE**"
      ],
      "metadata": {
        "id": "Y7u675bi9XMS"
      }
    },
    {
      "cell_type": "code",
      "source": [
        "#1)STOCK ANALYSIS\n",
        "dates=pd.date_range(start='2025-01-01',periods=5,freq='D')\n",
        "prices=pd.Series([100,102,99,105,110],index=dates)\n",
        "print(\"original prices:\\n\",prices)\n",
        "print(\"day moving avg\\n\")\n",
        "print(prices.rolling(window=3).mean())"
      ],
      "metadata": {
        "colab": {
          "base_uri": "https://localhost:8080/"
        },
        "id": "PNJKZsSe9qds",
        "outputId": "a1fe8037-0465-49c1-9f12-5eaacbb81b4d"
      },
      "execution_count": null,
      "outputs": [
        {
          "output_type": "stream",
          "name": "stdout",
          "text": [
            "original prices:\n",
            " 2025-01-01    100\n",
            "2025-01-02    102\n",
            "2025-01-03     99\n",
            "2025-01-04    105\n",
            "2025-01-05    110\n",
            "Freq: D, dtype: int64\n",
            "day moving avg\n",
            "\n",
            "2025-01-01           NaN\n",
            "2025-01-02           NaN\n",
            "2025-01-03    100.333333\n",
            "2025-01-04    102.000000\n",
            "2025-01-05    104.666667\n",
            "Freq: D, dtype: float64\n"
          ]
        }
      ]
    },
    {
      "cell_type": "code",
      "source": [
        "#2)TEMPERATUES READINGS\n",
        "dates=pd.date_range(start='2025-01-01',periods=24,freq='H')\n",
        "temps=pd.Series(np.random.randint(25,35,24),index=dates)\n",
        "print(\"Hourly Date:\\n\",temps)\n"
      ],
      "metadata": {
        "colab": {
          "base_uri": "https://localhost:8080/"
        },
        "id": "2irYFOLn-paz",
        "outputId": "60899e8d-52b8-477b-bec9-3aa9d6d87ce2"
      },
      "execution_count": null,
      "outputs": [
        {
          "output_type": "stream",
          "name": "stdout",
          "text": [
            "Hourly Date:\n",
            " 2025-01-01 00:00:00    34\n",
            "2025-01-01 01:00:00    28\n",
            "2025-01-01 02:00:00    28\n",
            "2025-01-01 03:00:00    32\n",
            "2025-01-01 04:00:00    32\n",
            "2025-01-01 05:00:00    25\n",
            "2025-01-01 06:00:00    33\n",
            "2025-01-01 07:00:00    29\n",
            "2025-01-01 08:00:00    30\n",
            "2025-01-01 09:00:00    31\n",
            "2025-01-01 10:00:00    33\n",
            "2025-01-01 11:00:00    34\n",
            "2025-01-01 12:00:00    28\n",
            "2025-01-01 13:00:00    29\n",
            "2025-01-01 14:00:00    31\n",
            "2025-01-01 15:00:00    26\n",
            "2025-01-01 16:00:00    26\n",
            "2025-01-01 17:00:00    31\n",
            "2025-01-01 18:00:00    27\n",
            "2025-01-01 19:00:00    25\n",
            "2025-01-01 20:00:00    28\n",
            "2025-01-01 21:00:00    27\n",
            "2025-01-01 22:00:00    32\n",
            "2025-01-01 23:00:00    29\n",
            "Freq: h, dtype: int64\n"
          ]
        },
        {
          "output_type": "stream",
          "name": "stderr",
          "text": [
            "/tmp/ipython-input-2955575287.py:2: FutureWarning: 'H' is deprecated and will be removed in a future version, please use 'h' instead.\n",
            "  dates=pd.date_range(start='2025-01-01',periods=24,freq='H')\n"
          ]
        }
      ]
    },
    {
      "cell_type": "markdown",
      "source": [
        "**LAB-CODE 1**"
      ],
      "metadata": {
        "id": "8rmrOGvgBB1i"
      }
    },
    {
      "cell_type": "code",
      "source": [
        "import pandas as pd\n",
        "\n",
        "data = {\n",
        "    \"TransactionID\": [101, 102, 103, 104, 105, 102, 104],\n",
        "    \"Customer\": [\"Alice\", \"Bob\", \"Charlie\", \"David\", \"Eva\", \"Bob\", \"David\"],\n",
        "    \"Product\": [\"Laptop\", \"Phone\", \"Tablet\", \"Laptop\", \"Phone\", \"Phone\", \"Laptop\"],\n",
        "    \"Amount\": [1200, 800, 300, 1200, 800, 800, 1200],\n",
        "    \"Date\": [\"2024-01-01\", \"2024-01-02\", \"2024-01-03\",\n",
        "             \"2024-01-04\", \"2024-01-05\", \"2024-01-02\", \"2024-01-04\"]\n",
        "}\n",
        "\n",
        "df = pd.DataFrame(data)\n",
        "print(\"Original Dataset:\\n\", df)\n",
        "\n",
        "duplicates = df.duplicated()\n",
        "print(\"\\nNumber of duplicate rows:\", duplicates.sum())\n",
        "\n",
        "df_cleaned = df.drop_duplicates()\n",
        "print(\"\\nCleaned Dataset:\\n\", df_cleaned)\n",
        "\n",
        "print(\"\\nBefore removing duplicates:\", len(df))\n",
        "print(\"After removing duplicates:\", len(df_cleaned))\n"
      ],
      "metadata": {
        "colab": {
          "base_uri": "https://localhost:8080/"
        },
        "id": "HmpQi2ReAm3D",
        "outputId": "cc208466-1fa9-4b59-8411-302269b79e7e"
      },
      "execution_count": null,
      "outputs": [
        {
          "output_type": "stream",
          "name": "stdout",
          "text": [
            "Original Dataset:\n",
            "    TransactionID Customer Product  Amount        Date\n",
            "0            101    Alice  Laptop    1200  2024-01-01\n",
            "1            102      Bob   Phone     800  2024-01-02\n",
            "2            103  Charlie  Tablet     300  2024-01-03\n",
            "3            104    David  Laptop    1200  2024-01-04\n",
            "4            105      Eva   Phone     800  2024-01-05\n",
            "5            102      Bob   Phone     800  2024-01-02\n",
            "6            104    David  Laptop    1200  2024-01-04\n",
            "\n",
            "Number of duplicate rows: 2\n",
            "\n",
            "Cleaned Dataset:\n",
            "    TransactionID Customer Product  Amount        Date\n",
            "0            101    Alice  Laptop    1200  2024-01-01\n",
            "1            102      Bob   Phone     800  2024-01-02\n",
            "2            103  Charlie  Tablet     300  2024-01-03\n",
            "3            104    David  Laptop    1200  2024-01-04\n",
            "4            105      Eva   Phone     800  2024-01-05\n",
            "\n",
            "Before removing duplicates: 7\n",
            "After removing duplicates: 5\n"
          ]
        }
      ]
    },
    {
      "cell_type": "markdown",
      "source": [
        "**LAB-CODE 2**"
      ],
      "metadata": {
        "id": "zwTSnV_mBJUX"
      }
    },
    {
      "cell_type": "code",
      "source": [
        "import pandas as pd\n",
        "\n",
        "data = {\n",
        "    \"EmployeeID\": [1, 2, 3, 4],\n",
        "    \"Name\": [\"Alice\", \"Bob\", \"Charlie\", \"David\"],\n",
        "    \"Salary\": [\"50000\", \"60000\", \"55000\", \"70000\"],\n",
        "    \"Joining_Date\": [\"2021-05-10\", \"2020-08-15\", \"2022-01-20\", \"2019-11-30\"]\n",
        "}\n",
        "\n",
        "df = pd.DataFrame(data)\n",
        "print(\"Original Dataset:\\n\", df.dtypes)\n",
        "\n",
        "df[\"Salary\"] = pd.to_numeric(df[\"Salary\"])\n",
        "df[\"Joining_Date\"] = pd.to_datetime(df[\"Joining_Date\"])\n",
        "\n",
        "print(\"\\nConverted Dataset:\\n\", df.dtypes)\n",
        "print(\"\\nFinal Dataset:\\n\", df)\n"
      ],
      "metadata": {
        "id": "aXO5KgnoBAPr",
        "colab": {
          "base_uri": "https://localhost:8080/"
        },
        "outputId": "7ce59420-bfd9-4683-ffab-45151bd17c49"
      },
      "execution_count": 34,
      "outputs": [
        {
          "output_type": "stream",
          "name": "stdout",
          "text": [
            "Original Dataset:\n",
            " EmployeeID       int64\n",
            "Name            object\n",
            "Salary          object\n",
            "Joining_Date    object\n",
            "dtype: object\n",
            "\n",
            "Converted Dataset:\n",
            " EmployeeID               int64\n",
            "Name                    object\n",
            "Salary                   int64\n",
            "Joining_Date    datetime64[ns]\n",
            "dtype: object\n",
            "\n",
            "Final Dataset:\n",
            "    EmployeeID     Name  Salary Joining_Date\n",
            "0           1    Alice   50000   2021-05-10\n",
            "1           2      Bob   60000   2020-08-15\n",
            "2           3  Charlie   55000   2022-01-20\n",
            "3           4    David   70000   2019-11-30\n"
          ]
        }
      ]
    }
  ]
}