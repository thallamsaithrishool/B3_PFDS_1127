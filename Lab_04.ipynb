{
  "nbformat": 4,
  "nbformat_minor": 0,
  "metadata": {
    "colab": {
      "provenance": [],
      "authorship_tag": "ABX9TyNKCJr/sYiDxcjO3RXv27bK",
      "include_colab_link": true
    },
    "kernelspec": {
      "name": "python3",
      "display_name": "Python 3"
    },
    "language_info": {
      "name": "python"
    }
  },
  "cells": [
    {
      "cell_type": "markdown",
      "metadata": {
        "id": "view-in-github",
        "colab_type": "text"
      },
      "source": [
        "<a href=\"https://colab.research.google.com/github/thallamsaithrishool/B3_PFDS_1127/blob/main/Lab_04.ipynb\" target=\"_parent\"><img src=\"https://colab.research.google.com/assets/colab-badge.svg\" alt=\"Open In Colab\"/></a>"
      ]
    },
    {
      "cell_type": "markdown",
      "source": [
        " 1) Student performance data by filling  and Readig the file\n",
        ""
      ],
      "metadata": {
        "id": "Vvl5doGoEjZT"
      }
    },
    {
      "cell_type": "code",
      "source": [
        "import csv\n",
        "\n",
        "with open(\"student_scores.csv\", 'w', newline='') as fp:\n",
        "    wr = csv.writer(fp)\n",
        "    wr.writerow([\"student_id\",\"Name\", \"Science\", \"English\",\"Maths\"])\n",
        "    for i in range(2):\n",
        "        student_id=input(\"Enter student_id:\")\n",
        "        name = input(\"Enter name: \")\n",
        "        Science = int(input(\"Enter Science marks: \"))\n",
        "        English = int(input(\"Enter English marks: \"))\n",
        "        Maths = int(input(\"Enter Maths marks: \"))\n",
        "        wr.writerow([student_id,name, Science, English,Maths])\n",
        "\n"
      ],
      "metadata": {
        "colab": {
          "base_uri": "https://localhost:8080/"
        },
        "id": "-r2e6uoL3Eq9",
        "outputId": "119b1ccd-0609-4894-d2a9-a18a29c2c2e6"
      },
      "execution_count": 20,
      "outputs": [
        {
          "name": "stdout",
          "output_type": "stream",
          "text": [
            "Enter student_id:2303A51127\n",
            "Enter name: Sai\n",
            "Enter Science marks: 15\n",
            "Enter English marks: 69\n",
            "Enter Maths marks: 36\n",
            "Enter student_id:2303A51121\n",
            "Enter name: 56\n",
            "Enter Science marks: 96\n",
            "Enter English marks: 36\n",
            "Enter Maths marks: 45\n"
          ]
        }
      ]
    },
    {
      "cell_type": "code",
      "metadata": {
        "colab": {
          "base_uri": "https://localhost:8080/"
        },
        "id": "0be3bba7",
        "outputId": "cce38509-6663-443e-a3b5-7f4d5944a29c"
      },
      "source": [
        "import csv\n",
        "\n",
        "with open(\"student_scores.csv\", 'r') as file:\n",
        "    csv_reader = csv.reader(file)\n",
        "    for row in csv_reader:\n",
        "        print(row)"
      ],
      "execution_count": 21,
      "outputs": [
        {
          "output_type": "stream",
          "name": "stdout",
          "text": [
            "['student_id', 'Name', 'Science', 'English', 'Maths']\n",
            "['2303A51127', 'Sai', '15', '69', '36']\n",
            "['2303A51121', '56', '96', '36', '45']\n"
          ]
        }
      ]
    },
    {
      "cell_type": "markdown",
      "source": [
        "2)Clean hospital patient data and loading the Datasets\n"
      ],
      "metadata": {
        "id": "JTZdFsU9E9Iq"
      }
    },
    {
      "cell_type": "code",
      "source": [
        "import csv\n",
        "\n",
        "with open(\"patients.csv\", 'w', newline='') as fp:\n",
        "    wr = csv.writer(fp)\n",
        "    wr.writerow([\"patient_id\", \"Name\", \"Age\", \"Gender\", \"Diagnosis\", \"Admission_Date\"])\n",
        "    for i in range(2):\n",
        "        patient_id = input(\"Enter patient_id: \")\n",
        "        Name = input(\"Enter name: \")\n",
        "        Age = int(input(\"Enter the Age: \"))\n",
        "        Gender = input(\"Enter Gender (Male/Female/Other): \")\n",
        "        Diagnosis = input(\"Enter Diagnosis: \")\n",
        "        Admission_Date = input(\"Enter Admission Date (YYYY-MM-DD): \")\n",
        "        wr.writerow([patient_id, Name, Age, Gender, Diagnosis, Admission_Date])\n"
      ],
      "metadata": {
        "colab": {
          "base_uri": "https://localhost:8080/"
        },
        "id": "0yUtXxRgCstH",
        "outputId": "67c29956-56aa-4d2b-87b0-0ecb580f5b6c"
      },
      "execution_count": 28,
      "outputs": [
        {
          "name": "stdout",
          "output_type": "stream",
          "text": [
            "Enter patient_id: 111\n",
            "Enter name: Rohith\n",
            "Enter the Age: 21\n",
            "Enter Gender (Male/Female/Other): Male\n",
            "Enter Diagnosis: Sugar\n",
            "Enter Admission Date (YYYY-MM-DD): 2025-08-16\n",
            "Enter patient_id: 112\n",
            "Enter name: Sumanth\n",
            "Enter the Age: 23\n",
            "Enter Gender (Male/Female/Other): Male\n",
            "Enter Diagnosis: BP\n",
            "Enter Admission Date (YYYY-MM-DD): 2025-12-23\n"
          ]
        }
      ]
    },
    {
      "cell_type": "code",
      "source": [
        "import csv\n",
        "with open(\"patients.csv\", 'r') as file:\n",
        "    csv_reader = csv.reader(file)\n",
        "    for row in csv_reader:\n",
        "        print(row)"
      ],
      "metadata": {
        "colab": {
          "base_uri": "https://localhost:8080/"
        },
        "id": "ENCa7UJ0GuY3",
        "outputId": "23e52f20-3ca4-4c4b-d7d1-f20111dadf1f"
      },
      "execution_count": 29,
      "outputs": [
        {
          "output_type": "stream",
          "name": "stdout",
          "text": [
            "['patient_id', 'Name', 'Age', 'Gender', 'Diagnosis', 'Admission_Date']\n",
            "['111', 'Rohith', '21', 'Male', 'Sugar', '2025-08-16']\n",
            "['112', 'Sumanth', '23', 'Male', 'BP', '2025-12-23']\n"
          ]
        }
      ]
    }
  ]
}