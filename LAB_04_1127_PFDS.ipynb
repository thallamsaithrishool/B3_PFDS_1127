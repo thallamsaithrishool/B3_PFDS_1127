{
  "nbformat": 4,
  "nbformat_minor": 0,
  "metadata": {
    "colab": {
      "provenance": [],
      "authorship_tag": "ABX9TyNTu4VJXRaS47QRIxdAuGfY",
      "include_colab_link": true
    },
    "kernelspec": {
      "name": "python3",
      "display_name": "Python 3"
    },
    "language_info": {
      "name": "python"
    }
  },
  "cells": [
    {
      "cell_type": "markdown",
      "metadata": {
        "id": "view-in-github",
        "colab_type": "text"
      },
      "source": [
        "<a href=\"https://colab.research.google.com/github/thallamsaithrishool/B3_PFDS_1127/blob/main/LAB_04_1127_PFDS.ipynb\" target=\"_parent\"><img src=\"https://colab.research.google.com/assets/colab-badge.svg\" alt=\"Open In Colab\"/></a>"
      ]
    },
    {
      "cell_type": "markdown",
      "source": [
        "1)Sales Data\n"
      ],
      "metadata": {
        "id": "MHCWiDxkU8P5"
      }
    },
    {
      "cell_type": "code",
      "execution_count": 1,
      "metadata": {
        "colab": {
          "base_uri": "https://localhost:8080/"
        },
        "id": "VvBpYWoLMt2H",
        "outputId": "1dd9a7e0-9f01-4ab9-f2e6-eef4dbb4339e"
      },
      "outputs": [
        {
          "output_type": "stream",
          "name": "stdout",
          "text": [
            "   Invoice_No Customer_Name  Product  Quantity    Price     Total\n",
            "0         101         Alice   Laptop       2.0  50000.0  100000.0\n",
            "1         102           Bob    Mouse       5.0  31000.0  155000.0\n",
            "4         105           Eva  Monitor      10.0  12000.0  120000.0\n",
            "5         106         Frank   Laptop       1.0  31000.0   31000.0\n",
            "   Invoice_No Customer_Name  Product  Quantity    Price     Total\n",
            "0         101         Alice   Laptop       2.0  50000.0  100000.0\n",
            "1         102           Bob    Mouse       5.0  31000.0  155000.0\n",
            "4         105           Eva  Monitor      10.0  12000.0  120000.0\n",
            "5         106         Frank   Laptop       1.0  31000.0   31000.0\n"
          ]
        }
      ],
      "source": [
        "import pandas as p\n",
        "\n",
        "a = p.read_csv(\"sales_data.csv\")\n",
        "a = a.dropna(subset=[\"Product\", \"Quantity\"])\n",
        "b = a[\"Price\"].mean()\n",
        "a[\"Price\"] = a[\"Price\"].fillna(b)\n",
        "a[\"Total\"] = a[\"Quantity\"] * a[\"Price\"]\n",
        "c = a[a[\"Total\"] > 1000]\n",
        "print(a)\n",
        "print(c)\n",
        "a.to_csv(\"sales_data_cleaned.csv\", index=False)\n"
      ]
    },
    {
      "cell_type": "markdown",
      "source": [
        "2)Job Applicant Filtering"
      ],
      "metadata": {
        "id": "iprDjrXlVI_9"
      }
    },
    {
      "cell_type": "code",
      "source": [
        "import pandas as p\n",
        "\n",
        "a = p.read_csv(\"/content/applicants.csv\")\n",
        "a = a.dropna(subset=[\"Python_Score\"])\n",
        "a[\"Experience_Years\"] = a[\"Experience_Years\"].fillna(0)\n",
        "b = a[(a[\"Python_Score\"] > 80) & (a[\"Experience_Years\"] > 2)]\n",
        "print(a)\n",
        "print(b)\n",
        "a.to_csv(\"applicants_cleaned.csv\", index=False)\n",
        "b.to_csv(\"applicants_selected.csv\", index=False)\n"
      ],
      "metadata": {
        "colab": {
          "base_uri": "https://localhost:8080/"
        },
        "id": "zFpg69OhVbe8",
        "outputId": "e44b57bf-44b8-4df1-fd57-52179f74c897"
      },
      "execution_count": 2,
      "outputs": [
        {
          "output_type": "stream",
          "name": "stdout",
          "text": [
            "   Applicant_ID   Name  Degree  Experience_Years  Python_Score     Status\n",
            "0             1  Alice  B.Tech               3.0          90.0    Applied\n",
            "1             2    Bob     MCA               0.0          75.0  Interview\n",
            "3             4  David  B.Tech               5.0          85.0    Applied\n",
            "4             5    Eva     MBA               0.0          95.0   Selected\n",
            "5             6  Frank     BCA               2.0          60.0    Applied\n",
            "   Applicant_ID   Name  Degree  Experience_Years  Python_Score   Status\n",
            "0             1  Alice  B.Tech               3.0          90.0  Applied\n",
            "3             4  David  B.Tech               5.0          85.0  Applied\n"
          ]
        }
      ]
    }
  ]
}