{
  "nbformat": 4,
  "nbformat_minor": 0,
  "metadata": {
    "colab": {
      "provenance": [],
      "authorship_tag": "ABX9TyMvZ+e/WWYG72QiILcDqahT",
      "include_colab_link": true
    },
    "kernelspec": {
      "name": "python3",
      "display_name": "Python 3"
    },
    "language_info": {
      "name": "python"
    }
  },
  "cells": [
    {
      "cell_type": "markdown",
      "metadata": {
        "id": "view-in-github",
        "colab_type": "text"
      },
      "source": [
        "<a href=\"https://colab.research.google.com/github/thallamsaithrishool/B3_PFDS_1127/blob/main/LAB_01.ipynb\" target=\"_parent\"><img src=\"https://colab.research.google.com/assets/colab-badge.svg\" alt=\"Open In Colab\"/></a>"
      ]
    },
    {
      "cell_type": "code",
      "source": [
        "def fact(i, d=0):\n",
        "    space = \"  \" * d\n",
        "    print(f\"{space}Calling fact({i})\")\n",
        "\n",
        "    if i == 0 or i == 1:\n",
        "        print(f\"{space}Base case: fact({i}) = 1\")\n",
        "        return 1\n",
        "    else:\n",
        "        res = i * fact(i - 1, d + 1)\n",
        "        print(f\"{space}Returning: {i} * fact({i - 1}) = {res}\")\n",
        "        return res\n"
      ],
      "metadata": {
        "id": "45JsH0S8Clgu"
      },
      "execution_count": 7,
      "outputs": []
    },
    {
      "cell_type": "code",
      "source": [
        "while True:\n",
        "    try:\n",
        "        i = int(input(\"Enter a number (≤ 10): \"))\n",
        "        if 0 <= i <= 10:\n",
        "            break\n",
        "        else:\n",
        "            print(\"Please enter a number between 0 and 10.\")\n",
        "    except:\n",
        "        print(\"Invalid input. Enter a number.\")\n"
      ],
      "metadata": {
        "colab": {
          "base_uri": "https://localhost:8080/"
        },
        "id": "4EnJwYFMCmTq",
        "outputId": "22a4aac6-2e29-420f-ca01-cf9b0405d8d4"
      },
      "execution_count": 8,
      "outputs": [
        {
          "name": "stdout",
          "output_type": "stream",
          "text": [
            "Enter a number (≤ 10): \n",
            "Invalid input. Enter a number.\n",
            "Enter a number (≤ 10): 5\n"
          ]
        }
      ]
    },
    {
      "cell_type": "code",
      "source": [
        "print(f\"\\nTracing fact({i}):\\n\")\n",
        "ans = fact(i)\n",
        "print(f\"\\nResult: fact({i}) = {ans}\")\n"
      ],
      "metadata": {
        "colab": {
          "base_uri": "https://localhost:8080/"
        },
        "id": "kB3jw5h1CmQQ",
        "outputId": "8b3c5890-6d78-41ef-8192-d4e2062bf5b1"
      },
      "execution_count": 9,
      "outputs": [
        {
          "output_type": "stream",
          "name": "stdout",
          "text": [
            "\n",
            "Tracing fact(5):\n",
            "\n",
            "Calling fact(5)\n",
            "  Calling fact(4)\n",
            "    Calling fact(3)\n",
            "      Calling fact(2)\n",
            "        Calling fact(1)\n",
            "        Base case: fact(1) = 1\n",
            "      Returning: 2 * fact(1) = 2\n",
            "    Returning: 3 * fact(2) = 6\n",
            "  Returning: 4 * fact(3) = 24\n",
            "Returning: 5 * fact(4) = 120\n",
            "\n",
            "Result: fact(5) = 120\n"
          ]
        }
      ]
    }
  ]
}