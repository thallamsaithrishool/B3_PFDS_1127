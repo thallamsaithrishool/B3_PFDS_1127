{
  "nbformat": 4,
  "nbformat_minor": 0,
  "metadata": {
    "colab": {
      "provenance": [],
      "authorship_tag": "ABX9TyOyiNtee9iow81PFq0Dupfg",
      "include_colab_link": true
    },
    "kernelspec": {
      "name": "python3",
      "display_name": "Python 3"
    },
    "language_info": {
      "name": "python"
    }
  },
  "cells": [
    {
      "cell_type": "markdown",
      "metadata": {
        "id": "view-in-github",
        "colab_type": "text"
      },
      "source": [
        "<a href=\"https://colab.research.google.com/github/thallamsaithrishool/B3_PFDS_1127/blob/main/LAB_03.ipynb\" target=\"_parent\"><img src=\"https://colab.research.google.com/assets/colab-badge.svg\" alt=\"Open In Colab\"/></a>"
      ]
    },
    {
      "cell_type": "code",
      "source": [
        "#1st problem\n",
        "import numpy as np\n",
        "\n",
        "a = np.array([[7,8,9],[6,5,4],[3,2,1]])\n",
        "b = np.array([[1,2,3],[4,5,6],[7,8,9]])\n",
        "\n",
        "add = np.add(a, b)\n",
        "sub = np.subtract(a, b)\n",
        "\n",
        "print(\"Matrix A:\\n\", a)\n",
        "print(\"Matrix B:\\n\", b)\n",
        "print(\"Addition:\\n\", add)\n",
        "print(\"Subtraction:\\n\", sub)"
      ],
      "metadata": {
        "colab": {
          "base_uri": "https://localhost:8080/"
        },
        "id": "TjKYeq0i14dH",
        "outputId": "7473ec16-7749-44de-bffb-c325bbb5d9d7"
      },
      "execution_count": 9,
      "outputs": [
        {
          "output_type": "stream",
          "name": "stdout",
          "text": [
            "Matrix A:\n",
            " [[7 8 9]\n",
            " [6 5 4]\n",
            " [3 2 1]]\n",
            "Matrix B:\n",
            " [[1 2 3]\n",
            " [4 5 6]\n",
            " [7 8 9]]\n",
            "Addition:\n",
            " [[ 8 10 12]\n",
            " [10 10 10]\n",
            " [10 10 10]]\n",
            "Subtraction:\n",
            " [[ 6  6  6]\n",
            " [ 2  0 -2]\n",
            " [-4 -6 -8]]\n"
          ]
        }
      ]
    },
    {
      "cell_type": "code",
      "source": [
        "# 2 problem\n",
        "import numpy as np\n",
        "import matplotlib.pyplot as plt\n",
        "\n",
        "a = ([[7,8,9],[6,5,4],[3,2,1]])\n",
        "b = np.array([[1,2,3],[4,5,6],[7,8,9]])\n",
        "c = np.dot(a, b)\n",
        "\n",
        "print(\"Matrix A:\\n\", a)\n",
        "print(\"Matrix B:\\n\", b)\n",
        "print(\"Dot Product:\\n\", c)\n",
        "\n",
        "\n",
        "plt.figure(figsize=(8, 3))\n",
        "\n",
        "plt.subplot(1, 3, 1)\n",
        "plt.imshow(a, cmap='viridis', interpolation='nearest')\n",
        "plt.title(\"Matrix A\")\n",
        "plt.colorbar()\n",
        "\n",
        "plt.subplot(1, 3, 2)\n",
        "plt.imshow(b, cmap='viridis', interpolation='nearest')\n",
        "plt.title(\"Matrix B\")\n",
        "plt.colorbar()\n",
        "\n",
        "plt.subplot(1, 3, 3)\n",
        "plt.imshow(c, cmap='viridis', interpolation='nearest')\n",
        "plt.title(\"Dot Product\")\n",
        "plt.colorbar()\n",
        "\n",
        "plt.tight_layout()\n",
        "plt.show()"
      ],
      "metadata": {
        "colab": {
          "base_uri": "https://localhost:8080/",
          "height": 480
        },
        "id": "d5jJWnb33ssM",
        "outputId": "8b9e95e7-df5d-4804-de39-253b55879843"
      },
      "execution_count": 11,
      "outputs": [
        {
          "output_type": "stream",
          "name": "stdout",
          "text": [
            "Matrix A:\n",
            " [[7, 8, 9], [6, 5, 4], [3, 2, 1]]\n",
            "Matrix B:\n",
            " [[1 2 3]\n",
            " [4 5 6]\n",
            " [7 8 9]]\n",
            "Dot Product:\n",
            " [[102 126 150]\n",
            " [ 54  69  84]\n",
            " [ 18  24  30]]\n"
          ]
        },
        {
          "output_type": "display_data",
          "data": {
            "text/plain": [
              "<Figure size 800x300 with 6 Axes>"
            ],
            "image/png": "[encoded data removed]"
          },
          "metadata": {}
        }
      ]
    },
    {
      "cell_type": "code",
      "source": [
        "#ClassRoom_Files\n",
        "import csv\n",
        "\n",
        "with open(\"Classroom_file.csv\", 'w', newline='') as fp:\n",
        "    wr = csv.writer(fp)\n",
        "    wr.writerow([\"Name\", \"Marks\"])\n",
        "    for i in range(2):\n",
        "        name = input(\"Enter name: \")\n",
        "        marks = int(input(\"Enter marks: \"))\n",
        "        wr.writerow([name, marks])\n"
      ],
      "metadata": {
        "colab": {
          "base_uri": "https://localhost:8080/"
        },
        "id": "-qoylo2w4bF3",
        "outputId": "6e89edd4-1652-4336-a7b4-337b4ce5d97e"
      },
      "execution_count": 12,
      "outputs": [
        {
          "name": "stdout",
          "output_type": "stream",
          "text": [
            "Enter name: raju\n",
            "Enter marks: 56\n",
            "Enter name: ramu\n",
            "Enter marks: 55\n"
          ]
        }
      ]
    }
  ]
}
