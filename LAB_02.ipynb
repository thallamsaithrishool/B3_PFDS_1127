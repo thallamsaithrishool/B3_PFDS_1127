{
  "nbformat": 4,
  "nbformat_minor": 0,
  "metadata": {
    "colab": {
      "provenance": [],
      "authorship_tag": "ABX9TyMh/M0RCjn+3t1qgaKGxuTu",
      "include_colab_link": true
    },
    "kernelspec": {
      "name": "python3",
      "display_name": "Python 3"
    },
    "language_info": {
      "name": "python"
    }
  },
  "cells": [
    {
      "cell_type": "markdown",
      "metadata": {
        "id": "view-in-github",
        "colab_type": "text"
      },
      "source": [
        "<a href=\"https://colab.research.google.com/github/thallamsaithrishool/B3_PFDS_1127/blob/main/LAB_02.ipynb\" target=\"_parent\"><img src=\"https://colab.research.google.com/assets/colab-badge.svg\" alt=\"Open In Colab\"/></a>"
      ]
    },
    {
      "cell_type": "code",
      "execution_count": 7,
      "metadata": {
        "colab": {
          "base_uri": "https://localhost:8080/"
        },
        "id": "In85vWXQEAQ2",
        "outputId": "f82ab42b-7e02-46bc-9bdd-fec6d1c85cae"
      },
      "outputs": [
        {
          "output_type": "stream",
          "name": "stdout",
          "text": [
            "All Marks:\n",
            " [[85 78 92]\n",
            " [76 88 81]\n",
            " [90 94 89]\n",
            " [65 70 72]\n",
            " [88 91 85]]\n"
          ]
        }
      ],
      "source": [
        "import numpy as np\n",
        "\n",
        "a = np.array([\n",
        "    [85, 78, 92],\n",
        "    [76, 88, 81],\n",
        "    [90, 94, 89],\n",
        "    [65, 70, 72],\n",
        "    [88, 91, 85]\n",
        "])\n",
        "\n",
        "print(\"All Marks:\\n\", a)\n"
      ]
    },
    {
      "cell_type": "code",
      "source": [
        "b = np.mean(a, axis=1)\n",
        "c = np.min(a, axis=1)\n",
        "d = np.max(a, axis=1)\n",
        "\n",
        "print(\"\\nAverage Marks:\", b)\n",
        "print(\"Minimum Marks:\", c)\n",
        "print(\"Maximum Marks:\", d)\n"
      ],
      "metadata": {
        "colab": {
          "base_uri": "https://localhost:8080/"
        },
        "id": "As8tEvEnEBYK",
        "outputId": "a9a89cfc-3234-420c-f198-3f6e9f8a48fb"
      },
      "execution_count": 8,
      "outputs": [
        {
          "output_type": "stream",
          "name": "stdout",
          "text": [
            "\n",
            "Average Marks: [85.         81.66666667 91.         69.         88.        ]\n",
            "Minimum Marks: [78 76 89 65 85]\n",
            "Maximum Marks: [92 88 94 72 91]\n"
          ]
        }
      ]
    },
    {
      "cell_type": "code",
      "source": [
        "e = a[[0, 2]]\n",
        "print(\"\\nMarks of Student 1 and 3:\\n\", e)\n"
      ],
      "metadata": {
        "colab": {
          "base_uri": "https://localhost:8080/"
        },
        "id": "U8ocG5IdEBUn",
        "outputId": "315c668d-16b0-4387-ba6d-3e0c399ad3f2"
      },
      "execution_count": 9,
      "outputs": [
        {
          "output_type": "stream",
          "name": "stdout",
          "text": [
            "\n",
            "Marks of Student 1 and 3:\n",
            " [[85 78 92]\n",
            " [90 94 89]]\n"
          ]
        }
      ]
    },
    {
      "cell_type": "code",
      "source": [
        "f = np.any(a > 80, axis=1)\n",
        "g = a[f]\n",
        "\n",
        "print(\"\\nStudents scoring above 80 in any subject:\\n\", g)\n"
      ],
      "metadata": {
        "colab": {
          "base_uri": "https://localhost:8080/"
        },
        "id": "VS-fimg_ELVh",
        "outputId": "5aaa64c0-e1b6-48f9-cd45-1d18b0b03216"
      },
      "execution_count": 10,
      "outputs": [
        {
          "output_type": "stream",
          "name": "stdout",
          "text": [
            "\n",
            "Students scoring above 80 in any subject:\n",
            " [[85 78 92]\n",
            " [76 88 81]\n",
            " [90 94 89]\n",
            " [88 91 85]]\n"
          ]
        }
      ]
    },
    {
      "cell_type": "code",
      "source": [
        "h = a.T\n",
        "print(\"\\nSubject-wise Marks:\\n\", h)\n"
      ],
      "metadata": {
        "colab": {
          "base_uri": "https://localhost:8080/"
        },
        "id": "CBcxqEZGELR-",
        "outputId": "9982cac5-3848-4da8-c15e-40b3a1810637"
      },
      "execution_count": 11,
      "outputs": [
        {
          "output_type": "stream",
          "name": "stdout",
          "text": [
            "\n",
            "Subject-wise Marks:\n",
            " [[85 76 90 65 88]\n",
            " [78 88 94 70 91]\n",
            " [92 81 89 72 85]]\n"
          ]
        }
      ]
    },
    {
      "cell_type": "code",
      "source": [
        "print(\"\\nAnalysis:\")\n",
        "print(\"• Student 3 has top marks overall.\")\n",
        "print(\"• Student 4 has lowest average.\")\n",
        "print(\"• Subject 2 has generally high scores.\")\n",
        "print(\"• Many students scored above 80 in at least one subject.\")\n"
      ],
      "metadata": {
        "colab": {
          "base_uri": "https://localhost:8080/"
        },
        "id": "zT2_XMbFERlg",
        "outputId": "0b9cbb5d-56f8-4a67-ce76-c7788b09d604"
      },
      "execution_count": 12,
      "outputs": [
        {
          "output_type": "stream",
          "name": "stdout",
          "text": [
            "\n",
            "Analysis:\n",
            "• Student 3 has top marks overall.\n",
            "• Student 4 has lowest average.\n",
            "• Subject 2 has generally high scores.\n",
            "• Many students scored above 80 in at least one subject.\n"
          ]
        }
      ]
    }
  ]
}